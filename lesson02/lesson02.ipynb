{
 "cells": [
  {
   "cell_type": "markdown",
   "metadata": {},
   "source": [
    "# Vectori și Matrici - recapitulare\n",
    "\n",
    "## Vectorii\n",
    "Vectorii și spațiile vectoriale sunt fundamentale pentru *algebra liniară* și sunt utilizate în multe modele de învățare automată. Vectorii descriu liniile și planurile spațiale, permițându-vă să efectuați calcule care explorează relațiile în spațiul multidimensional.\n",
    "\n",
    "## Ce este un vector\n",
    "La modul cel mai simplu, un vector este un element numeric care are atât *magnitudine*, cât și *direcție*. Magnitudinea reprezintă o distanță (de exemplu, \"2 km\"), iar direcția indică direcția în care se îndreaptă vectorul (de exemplu, \"Est\"). Vectorii sunt definiți de o coordonată n-dimensională care descrie un punct în spațiu care poate fi conectat printr-o linie de la o origine arbitrară.\n",
    "\n",
    "Toate acestea par cam complicate, așa că să începem cu un exemplu simplu, bidimensional. În acest caz, vom avea un vector care este definit de un punct dintr-un plan bidimensional: O coordonată bidimensională este formată dintr-o valoare *x* și o valoare *y*, iar în acest caz vom folosi **2** pentru *x* și **1** pentru *y*.\n",
    "\n",
    "Vectorul nostru poate fi scris ca **v**=(2,1), dar, în mod mai formal, vom folosi următoarea notație, în care valorile coordonatelor dimensionale ale vectorului sunt prezentate sub forma unei matrice:\n",
    "\\begin{equation}\\vec{v} = \\begin{bmatrix}2 \\\\ 1 \\end{bmatrix}\\end{equation}\n",
    "\n",
    "Deci, ce înseamnă asta mai exact? Ei bine, coordonata este bidimensională și descrie mișcările necesare pentru a ajunge la punctul final (de *cap*) al vectorului - în acest caz, trebuie să ne deplasăm 2 unități în dimensiunea *x* și 1 unitate în dimensiunea *y*. Rețineți că nu specificăm un punct de plecare pentru vector - descriem pur și simplu o coordonată de destinație care înglobează mărimile și direcția vectorului. Gândiți-vă la aceasta ca la direcțiile pe care trebuie să le urmați pentru a ajunge la *acolo* de la *acolo*, fără a specifica unde se află de fapt *acolo*!\n",
    "\n",
    "Poate ajuta la vizualizarea vectorului, iar în cazul unui vector bidimensional, acest lucru este destul de simplu. Trebuie doar să definim un plan bidimensional, să alegem un punct de plecare și să reprezentăm coordonatele descrise de vector în raport cu punctul de plecare.\n",
    "\n",
    "Rulați codul din următoarea celulă pentru a vizualiza vectorul **v** (care, amintiți-vă, este descris de coordonata (2,1))."
   ]
  },
  {
   "cell_type": "code",
   "execution_count": 3,
   "metadata": {},
   "outputs": [
    {
     "data": {
      "image/png": "[encoded data removed]",
      "text/plain": [
       "<Figure size 432x288 with 1 Axes>"
      ]
     },
     "metadata": {
      "needs_background": "light"
     },
     "output_type": "display_data"
    }
   ],
   "source": [
    "%matplotlib inline\n",
    "\n",
    "import numpy as np\n",
    "import matplotlib.pyplot as plt\n",
    "\n",
    "# We'll use a numpy array for our vector\n",
    "v = np.array([2,1])\n",
    "\n",
    "# and we'll use a quiver plot to visualize it.\n",
    "origin = [0], [0]\n",
    "plt.axis('equal')\n",
    "plt.grid()\n",
    "plt.ticklabel_format(style='sci', axis='both', scilimits=(0,0))\n",
    "plt.quiver(*origin, *v, scale=10, color='r')\n",
    "plt.show()"
   ]
  },
  {
   "cell_type": "markdown",
   "metadata": {},
   "source": [
    "Rețineți că putem utiliza un array numpy pentru a defini vectorul în Python; astfel, pentru a crea vectorul (2,1), vom crea pur și simplu un array numpy cu elementele [2,1]. Am folosit apoi un quiver plot pentru a vizualiza vectorul, folosind punctul 0,0 ca punct de plecare (sau *origine*). Vectorul nostru de (2,1) este reprezentat ca o săgeată care începe la 0,0 și se deplasează cu 2 unități de-a lungul axei *x* (spre dreapta) și cu 1 unitate de-a lungul axei *y* (în sus)."
   ]
  },
  {
   "cell_type": "markdown",
   "metadata": {},
   "source": [
    "## Calcularea mărimii și direcției vectorului\n",
    "\n",
    "### Calcularea magnitudinii vectorului\n",
    "Calcularea mărimii vectorului din coordonatele sale carteziene necesită măsurarea distanței dintre punctul de plecare arbitrar și punctul de cap al vectorului. Pentru un vector bidimensional, calculăm de fapt doar lungimea ipotenuzei unui triunghi dreptunghic - astfel încât am putea să invocăm pur și simplu Teorema lui Pitagora și să calculăm rădăcina pătrată a sumei pătratelor componentelor sale, astfel:\n",
    "\n",
    "\\begin{equation}\\|\\vec{v}\\| = \\sqrt{v_{1}\\;^{2} + v_{2}\\;^{2}}\\end{equation}\n",
    "\n",
    "Notația pentru magnitudinea unui vector este de a înconjura numele vectorului cu bare verticale - se pot folosi bare simple (de exemplu,|**v**|) sau bare duble (||**v**||). Barele duble sunt adesea folosite pentru a evita confuzia cu valorile absolute. Rețineți că componentele vectorului sunt indicate prin indici de subscripție. (v<sub>1</sub>, v<sub>2</sub>,...v<sub>*n*</sub>),\n",
    "\n",
    "În acest caz, vectorul **v** are două componente cu valorile **2** și **1**, astfel încât calculul mărimii noastre este:\n",
    "\n",
    "\\begin{equation}\\|\\vec{v}\\| = \\sqrt{2^{2} + 1^{2}}\\end{equation}\n",
    "\n",
    "Care este:\n",
    "\n",
    "\\begin{equation}\\|\\vec{v}\\| = \\sqrt{4 + 1}\\end{equation}\n",
    "\n",
    "Deci:\n",
    "\n",
    "\\begin{equation}\\|\\vec{v}\\| = \\sqrt{5} \\approx 2.24\\end{equation}\n",
    "\n",
    "Puteți rula următorul cod Python pentru a obține un rezultat mai precis."
   ]
  },
  {
   "cell_type": "code",
   "execution_count": 2,
   "metadata": {},
   "outputs": [
    {
     "name": "stdout",
     "output_type": "stream",
     "text": [
      "2.23606797749979\n"
     ]
    }
   ],
   "source": [
    "import math\n",
    "\n",
    "vMag = math.sqrt(v[0]**2 + v[1]**2)\n",
    "print (vMag)"
   ]
  },
  {
   "cell_type": "markdown",
   "metadata": {},
   "source": [
    "Acest calcul funcționează pentru vectori de orice dimensiune - trebuie doar să luați rădăcina pătrată a sumei componentelor la pătrat:\n",
    "\n",
    "\\begin{equation}\\|\\vec{v}\\| = \\sqrt{v_{1}\\;^{2} + v_{2}\\;^{2} ... + v_{n}\\;^{2}}\\end{equation}\n",
    "\n",
    "În Python, *numpy* oferă o bibliotecă de algebră liniară numită **linalg** care facilitează lucrul cu vectori - puteți utiliza funcția **norm** din următorul cod pentru a calcula magnitudinea unui vector:"
   ]
  },
  {
   "cell_type": "code",
   "execution_count": 3,
   "metadata": {},
   "outputs": [
    {
     "name": "stdout",
     "output_type": "stream",
     "text": [
      "2.23606797749979\n"
     ]
    }
   ],
   "source": [
    "import numpy as np\n",
    "\n",
    "vMag = np.linalg.norm(v)\n",
    "print (vMag)"
   ]
  },
  {
   "cell_type": "markdown",
   "metadata": {},
   "source": [
    "## Adăugare vectorială\n",
    "Până acum, am lucrat cu câte un singur vector. Ce se întâmplă atunci când trebuie să adunăm doi vectori.\n",
    "\n",
    "Să ne uităm la un exemplu, avem deja un vector numit **v**, așa cum este definit aici:\n",
    "\\begin{equation}\\vec{v} = \\begin{bmatrix}2 \\\\ 1 \\end{bmatrix}\\end{equation}\n",
    "Acum să creăm un al doilea vector, numit **s**, astfel:\n",
    "\\begin{equation}\\vec{s} = \\begin{bmatrix}-3 \\\\ 2 \\end{bmatrix}\\end{equation}\n",
    "\n",
    "Executați celula de mai jos pentru a crea **s** și pentru a o reprezenta grafic împreună cu **v**:"
   ]
  },
  {
   "cell_type": "code",
   "execution_count": 13,
   "metadata": {},
   "outputs": [
    {
     "name": "stdout",
     "output_type": "stream",
     "text": [
      "[-3  2]\n"
     ]
    },
    {
     "data": {
      "image/png": "[encoded data removed]",
      "text/plain": [
       "<Figure size 432x288 with 1 Axes>"
      ]
     },
     "metadata": {
      "needs_background": "light"
     },
     "output_type": "display_data"
    }
   ],
   "source": [
    "import math\n",
    "import numpy as np\n",
    "import matplotlib.pyplot as plt\n",
    "%matplotlib inline\n",
    "\n",
    "v = np.array([2,1])\n",
    "s = np.array([-3,2])\n",
    "print (s)\n",
    "\n",
    "# Plot v and s\n",
    "vecs = np.array([v,s])\n",
    "origin = [0], [0]\n",
    "plt.axis('equal')\n",
    "plt.grid()\n",
    "plt.ticklabel_format(style='sci', axis='both', scilimits=(0,0))\n",
    "plt.quiver(*origin, *v, scale=10, color='r')\n",
    "plt.quiver(*origin, *s, scale=10, color='g')\n",
    "plt.show()"
   ]
  },
  {
   "cell_type": "markdown",
   "metadata": {},
   "source": [
    "În grafic se poate observa că cei doi vectori au direcții și mărimi diferite. Ce se întâmplă atunci când îi adunăm?\n",
    "\n",
    "Iată formula:\n",
    "\\begin{equation}\\vec{z} = \\vec{v}+\\vec{s}\\end{equation}\n",
    "\n",
    "În ceea ce privește matricile noastre vectoriale, acest lucru arată în felul următor:\n",
    "\\begin{equation}\\vec{z} = \\begin{bmatrix}2 \\\\ 1 \\end{bmatrix} + \\begin{bmatrix}-3 \\\\ 2 \\end{bmatrix}\\end{equation}\n",
    "\n",
    "Ceea ce dă următorul rezultat:\n",
    "\\begin{equation}\\vec{z} = \\begin{bmatrix}2 \\\\ 1 \\end{bmatrix} + \\begin{bmatrix}-3 \\\\ 2 \\end{bmatrix} = \\begin{bmatrix}-1 \\\\ 3 \\end{bmatrix}\\end{equation}\n",
    "\n",
    "Să verificăm dacă Python dă același rezultat:"
   ]
  },
  {
   "cell_type": "code",
   "execution_count": 14,
   "metadata": {},
   "outputs": [
    {
     "name": "stdout",
     "output_type": "stream",
     "text": [
      "[-1  3]\n"
     ]
    }
   ],
   "source": [
    "z = v + s\n",
    "print(z)"
   ]
  },
  {
   "cell_type": "markdown",
   "metadata": {},
   "source": [
    "Deci, cum arată asta într-un grafic?"
   ]
  },
  {
   "cell_type": "code",
   "execution_count": 17,
   "metadata": {},
   "outputs": [
    {
     "data": {
      "image/png": "[encoded data removed]",
      "text/plain": [
       "<Figure size 432x288 with 1 Axes>"
      ]
     },
     "metadata": {
      "needs_background": "light"
     },
     "output_type": "display_data"
    }
   ],
   "source": [
    "vecs = np.array([v,s,z])\n",
    "origin = [0], [0]\n",
    "plt.axis('equal')\n",
    "plt.grid()\n",
    "plt.ticklabel_format(style='sci', axis='both', scilimits=(0,0))\n",
    "plt.quiver(*origin, *v, scale=10, color='r')\n",
    "plt.quiver(*origin, *s, scale=10, color='b')\n",
    "plt.quiver(*origin, *z, scale=10, color='g')\n",
    "plt.show()"
   ]
  },
  {
   "cell_type": "markdown",
   "metadata": {},
   "source": [
    "Deci, ce se întâmplă aici?\n",
    "Ei bine, am adăugat dimensiunile lui **s** la dimensiunile lui **v** pentru a descrie un nou vector **z**. Să despărțim asta:\n",
    "- Dimensiunile lui **v** sunt (2,1), deci din punctul nostru de plecare ne deplasăm cu 2 unități în dimensiunea *x* (spre dreapta) și cu 1 unitate în dimensiunea *y* (în sus). În grafic, dacă porniți din poziția (0,0), acest lucru este reprezentat de săgeata roșie.\n",
    "- Apoi adăugăm **s**, care are valorile dimensiunii (-3, 2), deci ne deplasăm cu -3 unități în dimensiunea *x* (spre stânga, deoarece este un număr negativ) și apoi cu 2 unități în dimensiunea *y* (în sus). Pe grafic, dacă începeți de la capul săgeții roșii și faceți aceste mișcări, veți ajunge la capul săgeții verzi, care reprezintă **z**.\n",
    "\n",
    "Același lucru este valabil și dacă efectuați operația de adunare invers și adăugați **v** la **s**, pașii pentru a crea **s** sunt descriși de săgeata albastră, iar dacă o folosiți ca punct de plecare pentru **v**, veți ajunge la capul săgeții verzi, care reprezintă **z**.\n",
    "\n",
    "Observați pe grafic că, dacă ați muta pur și simplu coada săgeții albastre astfel încât să pornească de la capul săgeții roșii, capul acesteia ar ajunge în același loc cu capul săgeții verzi; același lucru ar fi valabil și dacă ați muta coada săgeții roșii la capul săgeții albastre."
   ]
  },
  {
   "cell_type": "markdown",
   "metadata": {},
   "source": [
    "# Înmulțire vectorială\n",
    "Înmulțirea vectorială poate fi efectuată în trei moduri:\n",
    "\n",
    "- Înmulțirea scalară (Scalar Multiplication)\n",
    "- Înmulțirea cu produsul punctat (Dot Product Multiplication)\n",
    "- înmulțirea cu produsul încrucișat (Cross Product Multiplication)\n",
    "\n",
    "\n",
    "## Înmulțire scalară\n",
    "Să începem cu înmulțirea *scalară* - cu alte cuvinte, înmulțirea unui vector cu o singură valoare numerică.\n",
    "\n",
    "Să presupunem că vreau să înmulțesc vectorul meu cu 2, lucru pe care l-aș putea scrie astfel:\n",
    "\n",
    "\\begin{equation} \\vec{w} = 2\\vec{v}\\end{equation}\n",
    "\n",
    "Rețineți că rezultatul acestui calcul este un nou vector numit **w**. Deci, cum am putea calcula acest lucru?\n",
    "Reamintim că **v** este definit astfel:\n",
    "\n",
    "\\begin{equation}\\vec{v} = \\begin{bmatrix}2 \\\\ 1 \\end{bmatrix}\\end{equation}\n",
    "\n",
    "Pentru a calcula 2v, trebuie doar să aplicăm operația la fiecare valoare a dimensiunii din matricea vectorială, astfel:\n",
    "\n",
    "\\begin{equation}\\vec{w} = \\begin{bmatrix}2 \\cdot 2 \\\\  2 \\cdot 1 \\end{bmatrix}\\end{equation}\n",
    "\n",
    "Ceea ce ne dă următorul rezultat:\n",
    "\n",
    "\\begin{equation}\\vec{w} = \\begin{bmatrix}2 \\cdot 2 \\\\  2 \\cdot 1 \\end{bmatrix} = \\begin{bmatrix}4 \\\\ 2 \\end{bmatrix}\\end{equation}\n",
    "\n",
    "În Python, puteți aplica acest tip de operații matriciale direct la matricele numpy, astfel încât putem calcula pur și simplu **w** în felul următor:"
   ]
  },
  {
   "cell_type": "code",
   "execution_count": 20,
   "metadata": {},
   "outputs": [
    {
     "name": "stdout",
     "output_type": "stream",
     "text": [
      "[4 2]\n"
     ]
    },
    {
     "data": {
      "image/png": "[encoded data removed]",
      "text/plain": [
       "<Figure size 432x288 with 1 Axes>"
      ]
     },
     "metadata": {
      "needs_background": "light"
     },
     "output_type": "display_data"
    }
   ],
   "source": [
    "%matplotlib inline\n",
    "\n",
    "import numpy as np\n",
    "import matplotlib.pyplot as plt\n",
    "import math\n",
    "\n",
    "v = np.array([2,1])\n",
    "\n",
    "w = 2 * v\n",
    "print(w)\n",
    "\n",
    "# Plot w\n",
    "origin = [0], [0]\n",
    "plt.grid()\n",
    "plt.ticklabel_format(style='sci', axis='both', scilimits=(0,0))\n",
    "plt.quiver(*origin, *w, scale=10)\n",
    "plt.quiver(*origin, *v, scale=10, color='r')\n",
    "plt.show()"
   ]
  },
  {
   "cell_type": "markdown",
   "metadata": {},
   "source": [
    "Aceeași abordare este adoptată și pentru împărțirea scalară.\n",
    "\n",
    "Încercați să vă convingeți - utilizați celula de mai jos pentru a calcula un nou vector numit **b** pe baza următoarei definiții:\n",
    "\n",
    "\\begin{equation}\\vec{b} = \\frac{\\vec{v}}{2}\\end{equation}"
   ]
  },
  {
   "cell_type": "code",
   "execution_count": 21,
   "metadata": {},
   "outputs": [
    {
     "name": "stdout",
     "output_type": "stream",
     "text": [
      "[1.  0.5]\n"
     ]
    },
    {
     "data": {
      "image/png": "[encoded data removed]",
      "text/plain": [
       "<Figure size 432x288 with 1 Axes>"
      ]
     },
     "metadata": {
      "needs_background": "light"
     },
     "output_type": "display_data"
    }
   ],
   "source": [
    "b = v / 2\n",
    "print(b)\n",
    "\n",
    "# Plot b\n",
    "origin = [0], [0]\n",
    "plt.axis('equal')\n",
    "plt.grid()\n",
    "plt.ticklabel_format(style='sci', axis='both', scilimits=(0,0))\n",
    "plt.quiver(*origin, *b, scale=10)\n",
    "plt.show()"
   ]
  },
  {
   "cell_type": "markdown",
   "metadata": {},
   "source": [
    "## Înmulțirea produsului cu puncte (produs scalar)\n",
    "Am văzut cum se înmulțește un vector cu un scalar. Ce ziceți de înmulțirea a doi vectori împreună? De fapt, există două moduri de a face acest lucru, în funcție de faptul că doriți ca rezultatul să fie un *produs scalar* (cu alte cuvinte, un număr) sau un *produs vectorial* (un vector).\n",
    "\n",
    "Pentru a obține un produs scalar, calculăm *produsul scalar (dot product)*. Acesta are o abordare similară înmulțirii unui vector cu un scalar, cu excepția faptului că înmulțește fiecare pereche componentă a vectorilor și însumează rezultatele. Pentru a indica faptul că efectuăm o operație de produs punctat, folosim operatorul &bull;:\n",
    "\n",
    "\\begin{equation} \\vec{v} \\cdot \\vec{s} = (v_{1} \\cdot s_{1}) + (v_{2} \\cdot s_{2}) ... + \\; (v_{n} \\cdot s_{n})\\end{equation}\n",
    "\n",
    "Deci, pentru vectorii noștri **v** (2,1) și **s** (-3,2), calculul nostru arată astfel:\n",
    "\n",
    "\\begin{equation} \\vec{v} \\cdot \\vec{s} = (2 \\cdot -3) + (1 \\cdot 2) = -6 + 2 = -4\\end{equation}\n",
    "\n",
    "Deci, produsul punct, sau produsul scalar, al **v** &bull; **s** este **-4**.\n",
    "\n",
    "În Python, puteți utiliza funcția *numpy.**dot*** pentru a calcula produsul punctat a două matrici vectoriale:"
   ]
  },
  {
   "cell_type": "code",
   "execution_count": 22,
   "metadata": {},
   "outputs": [
    {
     "name": "stdout",
     "output_type": "stream",
     "text": [
      "-4\n"
     ]
    }
   ],
   "source": [
    "import numpy as np\n",
    "\n",
    "v = np.array([2,1])\n",
    "s = np.array([-3,2])\n",
    "d = np.dot(v,s)\n",
    "print (d)"
   ]
  },
  {
   "cell_type": "markdown",
   "metadata": {},
   "source": [
    "În Python 3.5 și versiunile ulterioare, puteți utiliza, de asemenea, operatorul **@** pentru a calcula produsul punct:"
   ]
  },
  {
   "cell_type": "code",
   "execution_count": 23,
   "metadata": {},
   "outputs": [
    {
     "name": "stdout",
     "output_type": "stream",
     "text": [
      "-4\n"
     ]
    }
   ],
   "source": [
    "import numpy as np\n",
    "\n",
    "v = np.array([2,1])\n",
    "s = np.array([-3,2])\n",
    "d = v @ s\n",
    "print (d)"
   ]
  },
  {
   "cell_type": "markdown",
   "metadata": {
    "collapsed": true
   },
   "source": [
    "## Înmulțirea produsului încrucișat (Cross Product Multiplication)\n",
    "Pentru a obține *produsul vectorial* al înmulțirii a doi vectori, trebuie să calculați *produsul încrucișat*. Rezultatul este un nou vector care se află în unghi drept față de ambii vectori în spațiul euclidian 3D. Acest lucru înseamnă că produsul încrucișat are sens doar atunci când se lucrează cu vectori care conțin trei componente.\n",
    "\n",
    "De exemplu, să presupunem că avem următorii vectori:\n",
    "\n",
    "\\begin{equation}\\vec{p} = \\begin{bmatrix}2 \\\\ 3 \\\\ 1 \\end{bmatrix}\\;\\; \\vec{q} = \\begin{bmatrix}1 \\\\ 2 \\\\ -2 \\end{bmatrix}\\end{equation}\n",
    "\n",
    "Pentru a calcula produsul încrucișat al acestor vectori, scris ca **p** x **q**, trebuie să creăm un nou vector (să-i spunem **r**) cu trei componente (r<sub>1</sub>, r<sub>2</sub>, and r<sub>3</sub>). Valorile pentru aceste componente se calculează astfel:\n",
    "\n",
    "\\begin{equation}r_{1} = p_{2}q_{3} - p_{3}q_{2}\\end{equation}\n",
    "\\begin{equation}r_{2} = p_{3}q_{1} - p_{1}q_{3}\\end{equation}\n",
    "\\begin{equation}r_{3} = p_{1}q_{2} - p_{2}q_{1}\\end{equation}\n",
    "\n",
    "Deci, în cazul nostru:\n",
    "\n",
    "\\begin{equation}\\vec{r} = \\vec{p} \\times \\vec{q} = \\begin{bmatrix}(3 \\cdot -2) - (1 \\cdot 2) \\\\ (1 \\cdot 1) - (2 \\cdot -2) \\\\ (2 \\cdot 2) - (3 \\cdot 1) \\end{bmatrix} = \\begin{bmatrix}-6 - 2 \\\\ 1 - -4 \\\\ 4 - 3 \\end{bmatrix} = \\begin{bmatrix}-8 \\\\ 5 \\\\ 1 \\end{bmatrix}\\end{equation}\n",
    "\n",
    "În Python, puteți utiliza funcția *numpy.cross* pentru a calcula produsul încrucișat a două tablouri vectoriale:"
   ]
  },
  {
   "cell_type": "code",
   "execution_count": 24,
   "metadata": {},
   "outputs": [
    {
     "name": "stdout",
     "output_type": "stream",
     "text": [
      "[-8  5  1]\n"
     ]
    }
   ],
   "source": [
    "import numpy as np\n",
    "\n",
    "p = np.array([2,3,1])\n",
    "q = np.array([1,2,-2])\n",
    "r = np.cross(p,q)\n",
    "print (r)"
   ]
  },
  {
   "cell_type": "markdown",
   "metadata": {},
   "source": [
    "# Introducere în matrici\n",
    "În termeni generali, o matrice este ca un array de numere care sunt aranjate în rânduri și coloane.\n",
    "\n",
    "## Matrici și notație matricială\n",
    "O matrice aranjează numerele în rânduri și coloane, astfel:\n",
    "\n",
    "\\begin{equation}A = \\begin{bmatrix}\n",
    "  1 & 2 & 3 \\\\\n",
    "  4 & 5 & 6\n",
    " \\end{bmatrix}\n",
    "\\end{equation}\n",
    "\n",
    "Rețineți că matricile sunt denumite în general cu majusculă. Ne referim la *elementele* matricei folosind echivalentul în minuscule, cu un indicator de rând și de coloană ca subscript, astfel:\n",
    "\n",
    "\\begin{equation}A = \\begin{bmatrix}\n",
    "  a_{1,1} & a_{1,2} & a_{1,3} \\\\\n",
    "  a_{2,1} & a_{2,2} & a_{2,3}\n",
    " \\end{bmatrix}\n",
    "\\end{equation}\n",
    "\n",
    "În Python, puteți defini o matrice ca un *numpy.**array*** bidimensional, astfel:"
   ]
  },
  {
   "cell_type": "code",
   "execution_count": 1,
   "metadata": {},
   "outputs": [
    {
     "name": "stdout",
     "output_type": "stream",
     "text": [
      "[[1 2 3]\n",
      " [4 5 6]]\n"
     ]
    }
   ],
   "source": [
    "import numpy as np\n",
    "\n",
    "A = np.array([[1,2,3],\n",
    "              [4,5,6]])\n",
    "print (A)"
   ]
  },
  {
   "cell_type": "markdown",
   "metadata": {},
   "source": [
    "De asemenea, puteți utiliza tipul *numpy.**matrix***, care este o subclasă specializată de ***array***:"
   ]
  },
  {
   "cell_type": "code",
   "execution_count": 2,
   "metadata": {},
   "outputs": [
    {
     "name": "stdout",
     "output_type": "stream",
     "text": [
      "[[1 2 3]\n",
      " [4 5 6]]\n"
     ]
    }
   ],
   "source": [
    "import numpy as np\n",
    "\n",
    "M = np.matrix([[1,2,3],\n",
    "               [4,5,6]])\n",
    "print (M)"
   ]
  },
  {
   "cell_type": "markdown",
   "metadata": {},
   "source": [
    "Există unele diferențe de comportament între tipurile ***array*** și ***matrix*** - în special în ceea ce privește înmulțirea (pe care o vom explora mai târziu). Puteți folosi oricare dintre ele, dar majoritatea programatorilor Python cu experiență care trebuie să lucreze atât cu vectori, cât și cu matrici, tind să prefere tipul ***array*** pentru coerență."
   ]
  },
  {
   "cell_type": "markdown",
   "metadata": {},
   "source": [
    "## Operații matriciale\n",
    "Matricele suportă operații aritmetice obișnuite.\n",
    "\n",
    "### Adăugarea matricelor\n",
    "Pentru a aduna două matrici de aceeași mărime, trebuie doar să adăugați elementele corespunzătoare din fiecare matrice:\n",
    "\n",
    "\\begin{equation}\\begin{bmatrix}1 & 2 & 3 \\\\4 & 5 & 6\\end{bmatrix}+ \\begin{bmatrix}6 & 5 & 4 \\\\3 & 2 & 1\\end{bmatrix} = \\begin{bmatrix}7 & 7 & 7 \\\\7 & 7 & 7\\end{bmatrix}\\end{equation}\n",
    "\n",
    "În acest exemplu, adăugăm două matrici (să le numim ***A*** și ***B***). Fiecare matrice are două rânduri și trei coloane (deci le descriem ca matrice 2x3). Adăugarea acestora va crea o nouă matrice de aceleași dimensiuni cu valorile a<sub>1,1</sub> + b<sub>1,1</sub>, a<sub>1,2</sub> + b<sub>1,2</sub>, a<sub>1,3</sub> + b<sub>1,3</sub>,a<sub>2,1</sub> + b<sub>2,1</sub>, a<sub>2,2</sub> + b<sub>2,2</sub>, și a<sub>2,3</sub> + b<sub>2,3</sub>. În acest caz, fiecare pereche de elemente corespunzătoare (1 și 6, 2 și 5, 3 și 4 etc.) însumează 7.\n",
    "\n",
    "Haideți să încercăm acest lucru cu Python:"
   ]
  },
  {
   "cell_type": "code",
   "execution_count": 3,
   "metadata": {},
   "outputs": [
    {
     "name": "stdout",
     "output_type": "stream",
     "text": [
      "[[7 7 7]\n",
      " [7 7 7]]\n"
     ]
    }
   ],
   "source": [
    "import numpy as np\n",
    "\n",
    "A = np.array([[1,2,3],\n",
    "              [4,5,6]])\n",
    "B = np.array([[6,5,4],\n",
    "              [3,2,1]])\n",
    "print(A + B)"
   ]
  },
  {
   "cell_type": "markdown",
   "metadata": {},
   "source": [
    "### Scăderea matricelor\n",
    "Scăderea matricelor funcționează în mod similar cu adunarea matricelor:\n",
    "\n",
    "\\begin{equation}\\begin{bmatrix}1 & 2 & 3 \\\\4 & 5 & 6\\end{bmatrix}- \\begin{bmatrix}6 & 5 & 4 \\\\3 & 2 & 1\\end{bmatrix} = \\begin{bmatrix}-5 & -3 & -1 \\\\1 & 3 & 5\\end{bmatrix}\\end{equation}\n",
    "\n",
    "Iată codul Python pentru a face acest lucru:"
   ]
  },
  {
   "cell_type": "code",
   "execution_count": 4,
   "metadata": {},
   "outputs": [
    {
     "name": "stdout",
     "output_type": "stream",
     "text": [
      "[[-5 -3 -1]\n",
      " [ 1  3  5]]\n"
     ]
    }
   ],
   "source": [
    "import numpy as np\n",
    "\n",
    "A = np.array([[1,2,3],\n",
    "              [4,5,6]])\n",
    "B = np.array([[6,5,4],\n",
    "              [3,2,1]])\n",
    "print (A - B)"
   ]
  },
  {
   "cell_type": "markdown",
   "metadata": {},
   "source": [
    "#### Conformabilitate\n",
    "În exemplele anterioare, am reușit să adunăm și să scădem matrici, deoarece *operațiile* (matricile pe care operăm) sunt ***conformabile*** pentru operația specifică (în acest caz, adunarea sau scăderea). Pentru a fi conformabile pentru adunare și scădere, operanzii trebuie să aibă același număr de rânduri și coloane. Există cerințe de conformabilitate diferite pentru alte operații, cum ar fi înmulțirea; pe care le vom analiza mai târziu."
   ]
  },
  {
   "cell_type": "markdown",
   "metadata": {},
   "source": [
    "### Matrici negative\n",
    "Nagativul unei matrice este doar o matrice cu semnul fiecărui element inversat:\n",
    "\n",
    "\\begin{equation}C = \\begin{bmatrix}-5 & -3 & -1 \\\\1 & 3 & 5\\end{bmatrix}\\end{equation}\n",
    "\n",
    "\\begin{equation}-C = \\begin{bmatrix}5 & 3 & 1 \\\\-1 & -3 & -5\\end{bmatrix}\\end{equation}\n",
    "\n",
    "Să vedem asta cu Python:"
   ]
  },
  {
   "cell_type": "code",
   "execution_count": 5,
   "metadata": {},
   "outputs": [
    {
     "name": "stdout",
     "output_type": "stream",
     "text": [
      "[[-5 -3 -1]\n",
      " [ 1  3  5]]\n",
      "[[ 5  3  1]\n",
      " [-1 -3 -5]]\n"
     ]
    }
   ],
   "source": [
    "import numpy as np\n",
    "\n",
    "C = np.array([[-5,-3,-1],\n",
    "              [1,3,5]])\n",
    "print (C)\n",
    "print (-C)"
   ]
  },
  {
   "cell_type": "markdown",
   "metadata": {},
   "source": [
    "### Transpunerea matricei\n",
    "Se poate *transpune* o matrice, adică se poate schimba orientarea rândurilor și coloanelor sale. Indicați acest lucru cu un superscript **T**, astfel:\n",
    "\n",
    "\\begin{equation}\\begin{bmatrix}1 & 2 & 3 \\\\4 & 5 & 6\\end{bmatrix}^{T} = \\begin{bmatrix}1 & 4\\\\2 & 5\\\\3 & 6 \\end{bmatrix}\\end{equation}\n",
    "\n",
    "În Python, atât *numpy.**array***, cât și *numpy.**matrix*** au o funcție **T**:"
   ]
  },
  {
   "cell_type": "code",
   "execution_count": 6,
   "metadata": {},
   "outputs": [
    {
     "name": "stdout",
     "output_type": "stream",
     "text": [
      "[[1 4]\n",
      " [2 5]\n",
      " [3 6]]\n"
     ]
    }
   ],
   "source": [
    "import numpy as np\n",
    "\n",
    "A = np.array([[1,2,3],\n",
    "              [4,5,6]])\n",
    "print(A.T)"
   ]
  },
  {
   "cell_type": "markdown",
   "metadata": {},
   "source": [
    "## Înmulțirea matricei\n",
    "Înmulțirea matricelor este un pic mai complexă decât operațiile pe care le-am văzut până acum. Există două cazuri care trebuie luate în considerare, *multiplicarea scalară* (înmulțirea unei matrice cu un singur număr) și *multiplicarea matricelor cu produs de puncte* (înmulțirea unei matrice cu o altă matrice).\n",
    "### Înmulțirea scalară\n",
    "Pentru a înmulți o matrice cu o valoare scalară, trebuie doar să înmulțițiți fiecare element cu scalarul pentru a obține o nouă matrice:\n",
    "\n",
    "\\begin{equation}2 \\times \\begin{bmatrix}1 & 2 & 3 \\\\4 & 5 & 6\\end{bmatrix} = \\begin{bmatrix}2 & 4 & 6 \\\\8 & 10 & 12\\end{bmatrix}\\end{equation}\n",
    "\n",
    "În Python, acest calcul se efectuează cu ajutorul operatorului **\\***:"
   ]
  },
  {
   "cell_type": "code",
   "execution_count": 7,
   "metadata": {},
   "outputs": [
    {
     "name": "stdout",
     "output_type": "stream",
     "text": [
      "[[ 2  4  6]\n",
      " [ 8 10 12]]\n"
     ]
    }
   ],
   "source": [
    "import numpy as np\n",
    "\n",
    "A = np.array([[1,2,3],\n",
    "              [4,5,6]])\n",
    "print(2 * A)"
   ]
  },
  {
   "cell_type": "markdown",
   "metadata": {},
   "source": [
    "### Punct Produs Matricea de produs Multiplicare\n",
    "Pentru a înmulți două matrici, trebuie să calculați *produsul de puncte* al rândurilor și coloanelor. Aceasta înseamnă înmulțirea fiecărui element din fiecare rând al primei matrice cu fiecare element din fiecare coloană a celei de-a doua matrice și adunarea rezultatelor. Efectuăm această operație aplicând regula *RC* - înmulțind întotdeauna ***R*** rânduri cu ***C***coloane. Pentru ca această operațiune să funcționeze, numărul de ***coloane*** din prima matrice trebuie să fie același cu numărul de *** rânduri*** din cea de-a doua matrice, astfel încât matricile să fie *conformabile* pentru operația de produs în puncte.\n",
    "\n",
    "Sună confuz, nu-i așa?\n",
    "\n",
    "Să ne uităm la un exemplu:\n",
    "\n",
    "\\begin{equation}\\begin{bmatrix}1 & 2 & 3 \\\\4 & 5 & 6\\end{bmatrix} \\cdot \\begin{bmatrix}9 & 8 \\\\ 7 & 6 \\\\ 5 & 4\\end{bmatrix}\\end{equation}\n",
    "\n",
    "Observați că prima matrice este 2x3, iar cea de-a doua matrice este 3x2. Ceea ce este important aici este că prima matrice are două rânduri, iar a doua matrice are două coloane. Pentru a efectua înmulțirea, luăm mai întâi produsul punctual al primului ***rând*** al primei matrice (1,2,3) și al primei ***coloane*** a celei de-a doua matrice (9,7,5):\n",
    "\n",
    "\\begin{equation}(1,2,3) \\cdot (9,7,5) = (1 \\times 9) + (2 \\times 7) + (3 \\times 5) = 38\\end{equation}\n",
    "\n",
    "În matricea noastră rezultată (care va avea întotdeauna același număr de *** rânduri*** ca și prima matrice și același număr de ***coloane*** ca și a doua matrice), putem introduce acest lucru în primul rând și în primul element de coloană:\n",
    "\n",
    "\\begin{equation}\\begin{bmatrix}38 & ?\\\\? & ?\\end{bmatrix} \\end{equation}\n",
    "\n",
    "Acum putem lua produsul punct al primului rând al primei matrice și al celei de-a doua coloane a celei de-a doua matrice:\n",
    "\n",
    "\\begin{equation}(1,2,3) \\cdot (8,6,4) = (1 \\times 8) + (2 \\times 6) + (3 \\times 4) = 32\\end{equation}\n",
    "\n",
    "Să adăugăm acest lucru la matricea noastră rezultată în primul rând și al doilea element de coloană:\n",
    "\n",
    "\\begin{equation}\\begin{bmatrix}38 & 32\\\\? & ?\\end{bmatrix} \\end{equation}\n",
    "\n",
    "Acum putem repeta acest proces pentru al doilea rând al primei matrice și pentru prima coloană a celei de-a doua matrice:\n",
    "\n",
    "\\begin{equation}(4,5,6) \\cdot (9,7,5) = (4 \\times 9) + (5 \\times 7) + (6 \\times 5) = 101\\end{equation}\n",
    "\n",
    "Care completează următorul element din rezultat:\n",
    "\n",
    "\\begin{equation}\\begin{bmatrix}38 & 32\\\\101 & ?\\end{bmatrix} \\end{equation}\n",
    "\n",
    "În cele din urmă, obținem produsul punct pentru al doilea rând al primei matrice și a doua coloană a celei de-a doua matrice:\n",
    "\n",
    "\\begin{equation}(4,5,6) \\cdot (8,6,4) = (4 \\times 8) + (5 \\times 6) + (6 \\times 4) = 86\\end{equation}\n",
    "\n",
    "Dându-ne:\n",
    "\n",
    "\\begin{equation}\\begin{bmatrix}38 & 32\\\\101 & 86\\end{bmatrix} \\end{equation}\n",
    "\n",
    "În Python, puteți utiliza funcția *numpy.**dot*** sau operatorul **@** pentru a multiplica matrici și matrici bidimensionale:"
   ]
  },
  {
   "cell_type": "code",
   "execution_count": 8,
   "metadata": {},
   "outputs": [
    {
     "name": "stdout",
     "output_type": "stream",
     "text": [
      "[[ 38  32]\n",
      " [101  86]]\n",
      "[[ 38  32]\n",
      " [101  86]]\n"
     ]
    }
   ],
   "source": [
    "import numpy as np\n",
    "\n",
    "A = np.array([[1,2,3],\n",
    "              [4,5,6]])\n",
    "B = np.array([[9,8],\n",
    "              [7,6],\n",
    "              [5,4]])\n",
    "print(np.dot(A,B))\n",
    "print(A @ B)"
   ]
  },
  {
   "cell_type": "markdown",
   "metadata": {},
   "source": [
    "Acesta este un caz în care există o diferență de comportament între *numpy.array* și *numpy.matrix*, Puteți utiliza, de asemenea, un operator de înmulțire obișnuit (**\\***) cu o matrice, dar nu și cu un array:"
   ]
  },
  {
   "cell_type": "code",
   "execution_count": 9,
   "metadata": {},
   "outputs": [
    {
     "name": "stdout",
     "output_type": "stream",
     "text": [
      "[[ 38  32]\n",
      " [101  86]]\n"
     ]
    }
   ],
   "source": [
    "import numpy as np\n",
    "\n",
    "A = np.matrix([[1,2,3]\n",
    "               ,[4,5,6]])\n",
    "B = np.matrix([[9,8],\n",
    "               [7,6],\n",
    "               [5,4]])\n",
    "print(A * B)"
   ]
  },
  {
   "cell_type": "markdown",
   "metadata": {},
   "source": [
    "Rețineți că, spre deosebire de înmulțirea numerelor scalare obișnuite, ordinea operanzilor într-o operație de înmulțire este semnificativă. În cazul numerelor scalare, se aplică *legea comutativă* a înmulțirii, astfel încât, de exemplu:\n",
    "\n",
    "\\begin{equation}2 \\times 4 = 4 \\times 2\\end{equation}\n",
    "\n",
    "În cazul înmulțirii matricelor, lucrurile stau diferit, de exemplu:\n",
    "\n",
    "\\begin{equation}\\begin{bmatrix}2 & 4 \\\\6 & 8\\end{bmatrix} \\cdot \\begin{bmatrix}1 & 3 \\\\ 5 & 7\\end{bmatrix} \\ne \\begin{bmatrix}1 & 3 \\\\ 5 & 7\\end{bmatrix} \\cdot \\begin{bmatrix}2 & 4 \\\\6 & 8\\end{bmatrix}\\end{equation}\n",
    "\n",
    "Rulați următorul cod Python pentru a testa acest lucru:"
   ]
  },
  {
   "cell_type": "code",
   "execution_count": 10,
   "metadata": {},
   "outputs": [
    {
     "name": "stdout",
     "output_type": "stream",
     "text": [
      "[[22 34]\n",
      " [46 74]]\n",
      "[[20 28]\n",
      " [52 76]]\n"
     ]
    }
   ],
   "source": [
    "import numpy as np\n",
    "\n",
    "A = np.array([[2,4],\n",
    "              [6,8]])\n",
    "B = np.array([[1,3],\n",
    "              [5,7]])\n",
    "print(A @ B)\n",
    "print(B @ A)"
   ]
  },
  {
   "cell_type": "markdown",
   "metadata": {},
   "source": [
    "## Matrici identitate\n",
    "O matrice de *identitate* (indicată de obicei cu **I** majusculă) este echivalentul în termeni matriciali al numărului **1**. Ea are întotdeauna același număr de rânduri ca și de coloane și are valoarea **1** în pozițiile elementelor diagonale I<sub>1,1</sub>, I<sub>2,2</sub>, etc; și 0 în toate celelalte poziții ale elementelor. Iată un exemplu de matrice identitară 3x3:\n",
    "\n",
    "\\begin{equation}\\begin{bmatrix}1 & 0 & 0\\\\0 & 1 & 0\\\\0 & 0 & 1\\end{bmatrix} \\end{equation}\n",
    "\n",
    "Înmulțirea oricărei matrice cu o matrice identitate este același lucru cu înmulțirea unui număr cu 1; rezultatul este același cu valoarea inițială:\n",
    "\n",
    "\\begin{equation}\\begin{bmatrix}1 & 2 & 3 \\\\4 & 5 & 6\\\\7 & 8 & 9\\end{bmatrix} \\cdot \\begin{bmatrix}1 & 0 & 0\\\\0 & 1 & 0\\\\0 & 0 & 1\\end{bmatrix} = \\begin{bmatrix}1 & 2 & 3 \\\\4 & 5 & 6\\\\7 & 8 & 9\\end{bmatrix} \\end{equation}\n",
    "\n",
    "Rulați următorul cod ca să vă convingeți."
   ]
  },
  {
   "cell_type": "code",
   "execution_count": 11,
   "metadata": {},
   "outputs": [
    {
     "name": "stdout",
     "output_type": "stream",
     "text": [
      "[[1 2 3]\n",
      " [4 5 6]\n",
      " [7 8 9]]\n"
     ]
    }
   ],
   "source": [
    "import numpy as np\n",
    "\n",
    "A = np.array([[1,2,3],\n",
    "              [4,5,6],\n",
    "              [7,8,9]])\n",
    "\n",
    "B = np.array([[1,0,0],\n",
    "              [0,1,0],\n",
    "              [0,0,1]])\n",
    "print(A @ B)"
   ]
  },
  {
   "cell_type": "markdown",
   "metadata": {
    "collapsed": true
   },
   "source": [
    "## Diviziunea matricei\n",
    "De fapt, nu puteți împărți cu o matrice; dar atunci când doriți să împărțiți matrici, puteți profita de faptul că împărțirea cu un anumit număr este aceeași cu înmulțirea cu reciproca acelui număr. De exemplu:\n",
    "\n",
    "\\begin{equation}6 \\div 3 = \\frac{1}{3}\\times 6 \\end{equation}\n",
    "\n",
    "În acest caz, <sup>1</sup>/<sub>3</sub> este reciproca lui 3 (care ca fracție este <sup>3</sup>/<sub>1</sub> - \"întoarcem\" numitorul și numitorul pentru a obține reciproca). De asemenea, puteți scrie <sup>1</sup>/<sub>3</sub> ca 3<sup>-1</sup>.\n",
    "\n",
    "### Inversa unei matrice\n",
    "Pentru împărțirea matricelor, folosim o idee asemănătoare; înmulțim cu *inversa* unei matrice:\n",
    "\n",
    "\\begin{equation}A \\div B = A \\cdot B^{-1}\\end{equation}\n",
    "\n",
    "Inversa lui B este B<sup>-1</sup> atâta timp cât următoarea ecuație este adevărată:\n",
    "\n",
    "\\begin{equation}B \\cdot B^{-1} = B^{-1} \\cdot B = I\\end{equation}\n",
    "\n",
    "**I**, poate vă amintiți, este o matrice de *identitate*; echivalentul matricial al lui 1.\n",
    "\n",
    "Deci, cum se calculează inversa unei matrice? Pentru o matrice 2x2, puteți urma această formulă:\n",
    "\n",
    "\\begin{equation}\\begin{bmatrix}a & b\\\\c & d\\end{bmatrix}^{-1} = \\frac{1}{ad-bc}  \\begin{bmatrix}d & -b\\\\-c & a\\end{bmatrix}\\end{equation}\n",
    "\n",
    "Ce s-a întâmplat acolo?\n",
    "- Am schimbat pozițiile lui *a* și *d*.\n",
    "- Am schimbat semnele lui *b* și *c*.\n",
    "- Am înmulțit matricea rezultată cu 1 peste *determinantul* matricei (*ad-bc*).\n",
    "\n",
    "Să încercăm cu niște numere reale:\n",
    "\n",
    "\\begin{equation}\\begin{bmatrix}6 & 2\\\\1 & 2\\end{bmatrix}^{-1} = \\frac{1}{(6\\times2)-(2\\times1)}  \\begin{bmatrix}2 & -2\\\\-1 & 6\\end{bmatrix}\\end{equation}\n",
    "\n",
    "Prin urmare:\n",
    "\n",
    "\\begin{equation}\\begin{bmatrix}6 & 2\\\\1 & 2\\end{bmatrix}^{-1} = \\frac{1}{10}  \\begin{bmatrix}2 & -2\\\\-1 & 6\\end{bmatrix}\\end{equation}\n",
    "\n",
    "Ceea ce ne dă rezultatul:\n",
    "\n",
    "\\begin{equation}\\begin{bmatrix}6 & 2\\\\1 & 2\\end{bmatrix}^{-1} = \\begin{bmatrix}0.2 & -0.2\\\\-0.1 & 0.6\\end{bmatrix}\\end{equation}\n",
    "\n",
    "Pentru a verifica acest lucru, putem înmulți matricea originală cu inversa sa pentru a vedea dacă obținem o matrice identitate. Acest lucru are sens dacă vă gândiți bine; în același mod în care 3 x <sup>1</sup>/<sub>3</sub> = 1, o matrice multiplicată cu inversa sa are ca rezultat o matrice identitate:\n",
    "\n",
    "\\begin{equation}\\begin{bmatrix}6 & 2\\\\1 & 2\\end{bmatrix} \\cdot \\begin{bmatrix}0.2 & -0.2\\\\-0.1 & 0.6\\end{bmatrix} = \\begin{bmatrix}(6\\times0.2)+(2\\times-0.1) & (6\\times-0.2)+(2\\times0.6)\\\\(1\\times0.2)+(2\\times-0.1) & (1\\times-0.2)+(2\\times0.6)\\end{bmatrix} = \\begin{bmatrix}1 & 0\\\\0 & 1\\end{bmatrix}\\end{equation}\n",
    "\n",
    "Rețineți că nu orice matrice are o inversă - de exemplu, dacă determinantul este 0, matricea inversă nu este definită.\n",
    "\n",
    "În Python, puteți utiliza funcția *numpy.linalg.**inv*** pentru a obține inversa unei matrice într-un obiect *array* sau *matrix*:"
   ]
  },
  {
   "cell_type": "code",
   "execution_count": 12,
   "metadata": {},
   "outputs": [
    {
     "name": "stdout",
     "output_type": "stream",
     "text": [
      "[[ 0.2 -0.2]\n",
      " [-0.1  0.6]]\n"
     ]
    }
   ],
   "source": [
    "import numpy as np\n",
    "\n",
    "B = np.array([[6,2],\n",
    "              [1,2]])\n",
    "\n",
    "print(np.linalg.inv(B))"
   ]
  },
  {
   "cell_type": "markdown",
   "metadata": {},
   "source": [
    "În plus, tipul *matrix* are o metodă ***I*** care returnează matricea inversă:"
   ]
  },
  {
   "cell_type": "code",
   "execution_count": 13,
   "metadata": {},
   "outputs": [
    {
     "name": "stdout",
     "output_type": "stream",
     "text": [
      "[[ 0.2 -0.2]\n",
      " [-0.1  0.6]]\n"
     ]
    }
   ],
   "source": [
    "import numpy as np\n",
    "\n",
    "B = np.matrix([[6,2],\n",
    "              [1,2]])\n",
    "\n",
    "print(B.I)"
   ]
  },
  {
   "cell_type": "markdown",
   "metadata": {},
   "source": [
    "În cazul matricelor mai mari, procesul de calculare a inversei este mai complex. Să explorăm un exemplu bazat pe următoarea matrice:\n",
    "\n",
    "\\begin{equation}\\begin{bmatrix}4 & 2 & 2\\\\6 & 2 & 4\\\\2 & 2 & 8\\end{bmatrix} \\end{equation}\n",
    "\n",
    "Procesul de găsire a inversului constă în următorii pași:\n",
    "\n",
    "1: Se creează o matrice de *minori* prin calcularea *determinantului* pentru fiecare element din matrice pe baza elementelor care <u>nu</u>  se află pe același rând sau coloană; astfel:\n",
    "\n",
    "\\begin{equation}\\begin{bmatrix}\\color{blue}4 & \\color{lightgray}2 & \\color{lightgray}2\\\\\\color{lightgray}6 & \\color{red}2 & \\color{red}4\\\\\\color{lightgray}2 & \\color{red}2 & \\color{red}8\\end{bmatrix}\\;\\;\\;\\;(2\\times8) - (4\\times2) = 8\\;\\;\\;\\;\\begin{bmatrix}8 & \\color{lightgray}? & \\color{lightgray}?\\\\\\color{lightgray}? & \\color{lightgray}? & \\color{lightgray}?\\\\\\color{lightgray}? & \\color{lightgray}? & \\color{lightgray}?\\end{bmatrix} \\end{equation}\n",
    "\n",
    "\\begin{equation}\\begin{bmatrix}\\color{lightgray}4 & \\color{blue}2 & \\color{lightgray}2\\\\\\color{red}6 & \\color{lightgray}2 & \\color{red}4\\\\\\color{red}2 & \\color{lightgray}2 & \\color{red}8\\end{bmatrix}\\;\\;\\;\\;(6\\times8) - (4\\times2) = 40\\;\\;\\;\\;\\begin{bmatrix}8 & 40 & \\color{lightgray}?\\\\\\color{lightgray}? & \\color{lightgray}? & \\color{lightgray}?\\\\\\color{lightgray}? & \\color{lightgray}? & \\color{lightgray}?\\end{bmatrix}\\end{equation}\n",
    "\n",
    "\\begin{equation}\\begin{bmatrix}\\color{lightgray}4 & \\color{lightgray}2 & \\color{blue}2\\\\\\color{red}6 & \\color{red}2 & \\color{lightgray}4\\\\\\color{red}2 & \\color{red}2 & \\color{lightgray}8\\end{bmatrix}\\;\\;\\;\\;(6\\times2) - (2\\times2) = 8\\;\\;\\;\\;\\begin{bmatrix}8 & 40 & 8\\\\\\color{lightgray}? & \\color{lightgray}? & \\color{lightgray}?\\\\\\color{lightgray}? & \\color{lightgray}? & \\color{lightgray}?\\end{bmatrix} \\end{equation}\n",
    "\n",
    "\\begin{equation}\\begin{bmatrix}\\color{lightgray}4 & \\color{red}2 & \\color{red}2\\\\\\color{blue}6 & \\color{lightgray}2 & \\color{lightgray}4\\\\\\color{lightgray}2 & \\color{red}2 & \\color{red}8\\end{bmatrix}\\;\\;\\;\\;(2\\times8) - (2\\times2) = 12\\;\\;\\;\\;\\begin{bmatrix}8 & 40 & 8\\\\12 & \\color{lightgray}? & \\color{lightgray}?\\\\\\color{lightgray}? & \\color{lightgray}? & \\color{lightgray}?\\end{bmatrix} \\end{equation}\n",
    "\n",
    "\\begin{equation}\\begin{bmatrix}\\color{red}4 & \\color{lightgray}2 & \\color{red}2\\\\\\color{lightgray}6 & \\color{blue}2 & \\color{lightgray}4\\\\\\color{red}2 & \\color{lightgray}2 & \\color{red}8\\end{bmatrix}\\;\\;\\;\\;(4\\times8) - (2\\times2) = 28\\;\\;\\;\\;\\begin{bmatrix}8 & 40 & 8\\\\12 & 28 & \\color{lightgray}?\\\\\\color{lightgray}? & \\color{lightgray}? & \\color{lightgray}?\\end{bmatrix} \\end{equation}\n",
    "\n",
    "\\begin{equation}\\begin{bmatrix}\\color{red}4 & \\color{red}2 & \\color{lightgray}2\\\\\\color{lightgray}6 & \\color{lightgray}2 & \\color{blue}4\\\\\\color{red}2 & \\color{red}2 & \\color{lightgray}8\\end{bmatrix}\\;\\;\\;\\;(4\\times2) - (2\\times2) = 4\\;\\;\\;\\;\\begin{bmatrix}8 & 40 & 8\\\\12 & 28 & 4\\\\\\color{lightgray}? & \\color{lightgray}? & \\color{lightgray}?\\end{bmatrix} \\end{equation}\n",
    "\n",
    "\\begin{equation}\\begin{bmatrix}\\color{lightgray}4 & \\color{red}2 & \\color{red}2\\\\\\color{lightgray}6 & \\color{red}2 & \\color{red}4\\\\\\color{blue}2 & \\color{lightgray}2 & \\color{lightgray}8\\end{bmatrix}\\;\\;\\;\\;(2\\times4) - (2\\times2) = 4\\;\\;\\;\\;\\begin{bmatrix}8 & 40 & 8\\\\12 & 28 & 4\\\\4 & \\color{lightgray}? & \\color{lightgray}?\\end{bmatrix} \\end{equation}\n",
    "\n",
    "\\begin{equation}\\begin{bmatrix}\\color{red}4 & \\color{lightgray}2 & \\color{red}2\\\\\\color{red}6 & \\color{lightgray}2 & \\color{red}4\\\\\\color{lightgray}2 & \\color{blue}2 & \\color{lightgray}8\\end{bmatrix}\\;\\;\\;\\;(4\\times4) - (2\\times6) = 4\\;\\;\\;\\;\\begin{bmatrix}8 & 40 & 8\\\\12 & 28 & 4\\\\4 & 4 & \\color{lightgray}?\\end{bmatrix} \\end{equation}\n",
    "\n",
    "\\begin{equation}\\begin{bmatrix}\\color{red}4 & \\color{red}2 & \\color{lightgray}2\\\\\\color{red}6 & \\color{red}2 & \\color{lightgray}4\\\\\\color{lightgray}2 & \\color{lightgray}2 & \\color{blue}8\\end{bmatrix}\\;\\;\\;\\;(4\\times2) - (2\\times6) = -4\\;\\;\\;\\;\\begin{bmatrix}8 & 40 & 8\\\\12 & 28 & 4\\\\4 & 4 & -4\\end{bmatrix} \\end{equation}\n",
    "\n",
    "\n",
    "2: Aplicați *cofactori* la matrice prin schimbarea semnului fiecărui element alternativ din matricea minorilor:\n",
    "\n",
    "\\begin{equation}\\begin{bmatrix}8 & -40 & 8\\\\-12 & 28 & -4\\\\4 & -4 & -4\\end{bmatrix} \\end{equation}\n",
    "\n",
    "3: *Adjugați* prin transpunerea elementelor pe diagonală:\n",
    "\n",
    "\\begin{equation}\\begin{bmatrix}8 & \\color{green}-\\color{green}1\\color{green}2 & \\color{orange}4\\\\\\color{green}-\\color{green}4\\color{green}0 & 28 & \\color{purple}-\\color{purple}4\\\\\\color{orange}8 & \\color{purple}-\\color{purple}4 & -4\\end{bmatrix} \\end{equation}\n",
    "\n",
    "4: Se înmulțește cu 1/determinant al matricei originale. Pentru a afla acest lucru, înmulțiți fiecare dintre elementele de pe rândul de sus cu determinanții lor minori corespunzători (pe care i-am calculat mai devreme în matricea minorilor), apoi scădeți al doilea din primul și adăugați al treilea:\n",
    "\n",
    "\\begin{equation}Determinant = (4 \\times 8) - (2 \\times 40) + (2 \\times 8) = -32\\end{equation}\n",
    "\n",
    "\n",
    "\\begin{equation}\\frac{1}{-32}\\begin{bmatrix}8 & -12 & 4\\\\-40 & 28 & -4\\\\8 & -4 & -4\\end{bmatrix} =  \\begin{bmatrix}-0.25 & 0.375 & -0.125\\\\1.25 & -0.875 & 0.125\\\\-0.25 & 0.125 & 0.125\\end{bmatrix}\\end{equation}\n",
    "\n",
    "Să verificăm că matricea originală înmulțită cu matricea inversă are ca rezultat o matrice identitate:\n",
    "\n",
    "\\begin{equation}\\begin{bmatrix}4 & 2 & 2\\\\6 & 2 & 4\\\\2 & 2 & 8\\end{bmatrix} \\cdot \\begin{bmatrix}-0.25 & 0.375 & -0.125\\\\1.25 & -0.875 & 0.125\\\\-0.25 & 0.125 & 0.125\\end{bmatrix}\\end{equation}\n",
    "\n",
    "\\begin{equation}= \\begin{bmatrix}(4\\times-0.25)+(2\\times1.25)+(2\\times-0.25) & (4\\times0.375)+(2\\times-0.875)+(2\\times0.125) & (4\\times-0.125)+(2\\times-0.125)+(2\\times0.125)\\\\(6\\times-0.25)+(2\\times1.25)+(4\\times-0.25) & (6\\times0.375)+(2\\times-0.875)+(4\\times0.125) & (6\\times-0.125)+(2\\times-0.125)+(4\\times0.125)\\\\(2\\times-0.25)+(2\\times1.25)+(8\\times-0.25) & (2\\times0.375)+(2\\times-0.875)+(8\\times0.125) & (2\\times-0.125)+(2\\times-0.125)+(8\\times0.125)\\end{bmatrix} \\end{equation}\n",
    "\n",
    "\\begin{equation}= \\begin{bmatrix}1 & 0 & 0\\\\0 & 1 & 0\\\\0 & 0 & 1\\end{bmatrix} \\end{equation}\n",
    "\n",
    "După cum puteți vedea, acest lucru poate deveni destul de complicat - motiv pentru care folosim de obicei un calculator sau un program de calculator. Puteți rula următorul cod Python pentru a verifica dacă matricea inversă pe care am calculat-o este corectă:"
   ]
  },
  {
   "cell_type": "code",
   "execution_count": 14,
   "metadata": {},
   "outputs": [
    {
     "name": "stdout",
     "output_type": "stream",
     "text": [
      "[[-0.25   0.375 -0.125]\n",
      " [ 1.25  -0.875  0.125]\n",
      " [-0.25   0.125  0.125]]\n"
     ]
    }
   ],
   "source": [
    "import numpy as np\n",
    "\n",
    "B = np.array([[4,2,2],\n",
    "              [6,2,4],\n",
    "              [2,2,8]])\n",
    "\n",
    "print(np.linalg.inv(B))"
   ]
  },
  {
   "cell_type": "markdown",
   "metadata": {},
   "source": [
    "### Înmulțirea cu o matrice inversă\n",
    "Acum că știți cum să calculați o matrice inversă, puteți utiliza aceste cunoștințe pentru a înmulți inversa unei matrice cu o altă matrice, ca alternativă la împărțire:\n",
    "\n",
    "\\begin{equation}\\begin{bmatrix}1 & 2\\\\3 & 4\\end{bmatrix} \\cdot \\begin{bmatrix}6 & 2\\\\1 & 2\\end{bmatrix}^{-1} \\end{equation}\n",
    "\n",
    "\\begin{equation}=\\begin{bmatrix}1 & 2\\\\3 & 4\\end{bmatrix} \\cdot \\begin{bmatrix}0.2 & -0.2\\\\-0.1 & 0.6\\end{bmatrix}  \\end{equation}\n",
    "\n",
    "\\begin{equation}=\\begin{bmatrix}(1\\times0.2)+(2\\times-0.1) & (1\\times-0.2)+(2\\times0.6)\\\\(3\\times0.2)+(4\\times-0.1) & (3\\times-0.2)+(4\\times0.6)\\end{bmatrix}\\end{equation}\n",
    "\n",
    "\\begin{equation}=\\begin{bmatrix}0 & 1\\\\0.2 & 1.8\\end{bmatrix}\\end{equation}\n",
    "\n",
    "Iată codul Python pentru a calcula acest lucru:"
   ]
  },
  {
   "cell_type": "code",
   "execution_count": 15,
   "metadata": {},
   "outputs": [
    {
     "name": "stdout",
     "output_type": "stream",
     "text": [
      "[[0.  1. ]\n",
      " [0.2 1.8]]\n"
     ]
    }
   ],
   "source": [
    "import numpy as np\n",
    "\n",
    "A = np.array([[1,2],\n",
    "              [3,4]])\n",
    "\n",
    "B = np.array([[6,2],\n",
    "              [1,2]])\n",
    "\n",
    "\n",
    "C = A @ np.linalg.inv(B)\n",
    "\n",
    "print(C)"
   ]
  },
  {
   "cell_type": "markdown",
   "metadata": {},
   "source": [
    "## Rezolvarea sistemelor de ecuații cu matrici\n",
    "Unul dintre lucrurile minunate despre matrici este că ne pot ajuta să rezolvăm sisteme de ecuații. De exemplu, luați în considerare următorul sistem de ecuații:\n",
    "\n",
    "\\begin{equation}2x + 4y = 18\\end{equation}\n",
    "\\begin{equation}6x + 2y = 34\\end{equation}\n",
    "\n",
    "Putem scrie acest lucru sub formă de matrice, astfel:\n",
    "\n",
    "\\begin{equation}\\begin{bmatrix}2 & 4\\\\6 & 2\\end{bmatrix} \\cdot \\begin{bmatrix}x\\\\y\\end{bmatrix}=\\begin{bmatrix}18\\\\34\\end{bmatrix}\\end{equation}\n",
    "\n",
    "Rețineți că variabilele (***x*** și ***y***) sunt aranjate ca o coloană într-o matrice, care este multiplicată cu o matrice care conține coeficienții pentru a produce o matrice care conține rezultatele. Dacă calculați produsul punctual din partea stângă, puteți vedea clar că aceasta reprezintă ecuațiile originale:\n",
    "\n",
    "\\begin{equation}\\begin{bmatrix}2x + 4y\\\\6x + 2y\\end{bmatrix} =\\begin{bmatrix}18\\\\34\\end{bmatrix}\\end{equation}\n",
    "\n",
    "Acum, haideți să denumim matricile noastre pentru a înțelege mai bine ceea ce urmează:\n",
    "\n",
    "\\begin{equation}A=\\begin{bmatrix}2 & 4\\\\6 & 2\\end{bmatrix}\\;\\;\\;\\;X=\\begin{bmatrix}x\\\\y\\end{bmatrix}\\;\\;\\;\\;B=\\begin{bmatrix}18\\\\34\\end{bmatrix}\\end{equation}\n",
    "\n",
    "Deja cunoaștem că ***A &bull; X = B***, ceea ce aritmetic înseamnă că ***X = B &div; A***. Deoarece nu putem împărți cu o matrice, trebuie să înmulțim cu inversa; astfel, putem găsi valorile variabilelor noastre (*X*) astfel: ***X = A<sup>-1</sup> &bull; B***\n",
    "\n",
    "Deci, mai întâi avem nevoie de inversul lui A:\n",
    "\n",
    "\\begin{equation}\\begin{bmatrix}2 & 4\\\\6 & 2\\end{bmatrix}^{-1} = \\frac{1}{(2\\times2)-(4\\times6)}  \\begin{bmatrix}2 & -4\\\\-6 & 2\\end{bmatrix}\\end{equation}\n",
    "\n",
    "\\begin{equation}= \\frac{1}{-20}  \\begin{bmatrix}2 & -4\\\\-6 & 2\\end{bmatrix}\\end{equation}\n",
    "\n",
    "\\begin{equation}=\\begin{bmatrix}-0.1 & 0.2\\\\0.3 & -0.1\\end{bmatrix}\\end{equation}\n",
    "\n",
    "Apoi se înmulțește cu B:\n",
    "\n",
    "\\begin{equation}X = \\begin{bmatrix}-0.1 & 0.2\\\\0.3 & -0.1\\end{bmatrix} \\cdot \\begin{bmatrix}18\\\\34\\end{bmatrix}\\end{equation}\n",
    "\n",
    "\\begin{equation}X = \\begin{bmatrix}(-0.1 \\times 18)+(0.2 \\times 34)\\\\(0.3\\times18)+(-0.1\\times34)\\end{bmatrix}\\end{equation}\n",
    "\n",
    "\\begin{equation}X = \\begin{bmatrix}5\\\\2\\end{bmatrix}\\end{equation}\n",
    "\n",
    "Matricea rezultată (*X*) conține valorile variabilelor noastre *x* și *y* și le putem verifica introducându-le în ecuațiile originale:\n",
    "\n",
    "\\begin{equation}(2\\times5) + (4\\times2) = 18\\end{equation}\n",
    "\\begin{equation}(6\\times5) + (2\\times2) = 34\\end{equation}\n",
    "\n",
    "Acestea se simplifică, bineînțeles, la:\n",
    "\n",
    "\\begin{equation}10 + 8 = 18\\end{equation}\n",
    "\\begin{equation}30 + 4 = 34\\end{equation}\n",
    "\n",
    "Deci, valorile variabilelor noastre sunt corecte.\n",
    "\n",
    "Iată codul Python pentru a face toate acestea:"
   ]
  },
  {
   "cell_type": "code",
   "execution_count": 16,
   "metadata": {},
   "outputs": [
    {
     "name": "stdout",
     "output_type": "stream",
     "text": [
      "[[5.]\n",
      " [2.]]\n"
     ]
    }
   ],
   "source": [
    "import numpy as np\n",
    "\n",
    "A = np.array([[2,4],\n",
    "              [6,2]])\n",
    "\n",
    "B = np.array([[18],\n",
    "              [34]])\n",
    "\n",
    "C = np.linalg.inv(A) @ B\n",
    "\n",
    "print(C)"
   ]
  },
  {
   "cell_type": "markdown",
   "metadata": {},
   "source": [
    "## Resurse utile:\n",
    "Operații cu matrici - https://ro.khanacademy.org/math/recapitulare-pentru-bac/x2c6df36abf3fe8b5:matrice/x2c6df36abf3fe8b5:operatii-cu-matrice/a/adding-and-subtracting-matrices\n",
    "\n",
    "Derivate, logaritmi si alte notiuni utile vor fi discutate/explicate mai tarziu in acest curs, cand le vom folosi."
   ]
  },
  {
   "cell_type": "markdown",
   "metadata": {},
   "source": [
    "# Statistică - recapitulare (Optional)\n",
    "Statistica se referă în primul rând la analizarea eșantioanelor de date."
   ]
  },
  {
   "cell_type": "markdown",
   "metadata": {},
   "source": [
    "## Analiza distribuției datelor\n",
    "O mare parte din analiza statistică se bazează pe modul în care valorile datelor sunt distribuite în cadrul setului de date. În această secțiune, vom explora câteva statistici pe care le puteți utiliza pentru a vă informa despre valorile dintr-un set de date.\n",
    "\n",
    "### Măsuri de tendință centrală\n",
    "Termenul *măsuri ale tendinței centrale* sună puțin cam măreț, dar în realitate este doar un mod elegant de a spune că suntem interesați să știm unde se află valoarea de mijloc în datele noastre. De exemplu, să presupunem că ne decidem să realizăm un studiu privind salariile comparative ale persoanelor care au absolvit aceeași școală. Ați putea înregistra rezultatele în felul următor:\n",
    "\n",
    "| Name     | Salary    |\n",
    "|----------|-----------|\n",
    "| Andrei   | 50,000    |\n",
    "| Maria    | 54,000    |\n",
    "| Ion      | 50,000    |\n",
    "| Ana      | 189,000   |\n",
    "| Cosmin   | 55,000    |\n",
    "| Dan      | 40,000    |\n",
    "| Elena    | 59,000    |\n",
    "\n",
    "\n",
    "Acum, unii dintre foștii studenți pot câștiga mult, iar alții pot câștiga mai puțin; dar care este salariul de la mijlocul intervalului dintre toate salariile?\n",
    "\n",
    "#### Mean\n",
    "O modalitate obișnuită de a defini valoarea centrală este utilizarea *mediei* (mean/average). Aceasta se calculează ca sumă a valorilor din setul de date, împărțită la numărul de observații din setul de date. Atunci când setul de date este format din întreaga populație, media este reprezentată prin simbolul grecesc ***&mu;*** (*mu*). Formula generală pentru calucularea mediei se scrie astfel:\n",
    "\n",
    "\\begin{equation}\\mu = \\frac{\\displaystyle\\sum_{i=1}^{N}X_{i}}{N}\\end{equation}\n",
    "\n",
    "În mod obișnuit, atunci când se lucrează cu un eșantion de date, media este reprezentată prin ***x&#772;*** (*x-bar*), iar formula se scrie astfel (observați literele minuscule folosite pentru a indica valorile dintr-un eșantion):\n",
    "\n",
    "\\begin{equation}\\bar{x} = \\frac{\\displaystyle\\sum_{i=1}^{n}x_{i}}{n}\\end{equation}\n",
    "\n",
    "În cazul listei noastre de salarii, media poate fi calculată astfel:\n",
    "\n",
    "\\begin{equation}\\bar{x} = \\frac{50000+54000+50000+189000+55000+40000+59000}{7}\\end{equation}\n",
    "\n",
    "Iar rezultatul. este **71.000**. Verificam:"
   ]
  },
  {
   "cell_type": "code",
   "execution_count": 24,
   "metadata": {},
   "outputs": [
    {
     "data": {
      "text/plain": [
       "71000.0"
      ]
     },
     "execution_count": 24,
     "metadata": {},
     "output_type": "execute_result"
    }
   ],
   "source": [
    "# col_names = [\"nume\", \"salariu\", \"varsta\", \"gen\"]\n",
    "\n",
    "# persoane = [[\"Andrei\", 1500, 28, 'M'],\n",
    "#             [\"Maria\", 1550, 29, 'F'],\n",
    "#             [\"Ion\", 1700, 30, 'M'],\n",
    "#             [\"Ana\", 1800, 27, 'F'],\n",
    "#             [\"Cosmin\", 2000, 31, 'M']]\n",
    "\n",
    "\n",
    "salarii = np.array([50000, 54000, 50000, 189000, 55000, 40000, 59000])\n",
    "salarii.mean()"
   ]
  },
  {
   "cell_type": "markdown",
   "metadata": {},
   "source": [
    "Așadar, este **71.000** într-adevăr valoarea centrală? Sau, altfel spus, ar fi rezonabil ca un absolvent al acestei școli să se aștepte să câștige 71.000 de dolari? La urma urmei, acesta este salariul mediu al unui absolvent al acestei școli.\n",
    "\n",
    "Dacă vă uitați cu atenție la salarii, puteți vedea că din cei șapte foști studenți, șase câștigă mai puțin decât salariul mediu. Datele sunt *strălucrate* fiindcă că Ana a reușit în mod clar să găsească un loc de muncă mult mai bine plătit decât colegii ei.\n",
    "\n",
    "#### Median\n",
    "OK, să vedem dacă putem găsi o altă definiție pentru valoarea centrală care să reflecte mai bine potențialul de câștig așteptat al elevilor care frecventează școala noastră. O altă măsură a tendinței centrale pe care o putem folosi este *mediana*. Pentru a calcula mediana, trebuie să sortăm valorile în ordine crescătoare și apoi să găsim valoarea cea mai mijlocie. Atunci când există un număr impar de observații, puteți găsi poziția valorii mediane folosind această formulă (unde *n* este numărul de observații):\n",
    "\n",
    "\\begin{equation}\\frac{n+1}{2}\\end{equation}\n",
    "\n",
    "Rețineți că această formulă returnează *poziția* valorii mediane în lista sortată, nu valoarea în sine.\n",
    "\n",
    "Dacă numărul de observații este par, atunci lucrurile sunt puțin (dar nu mult) mai complicate. În acest caz, se calculează mediana ca medie a celor două valori cele mai mijlocii, care se găsesc astfel:\n",
    "\n",
    "\\begin{equation}\\frac{n}{2} \\;\\;\\;\\;and \\;\\;\\;\\; \\frac{n}{2} + 1\\end{equation}\n",
    "\n",
    "Deci, pentru salariile absolvenților noștri, mai întâi să sortăm setul de date:\n",
    "\n",
    "| Salary      |\n",
    "|-------------|\n",
    "| 40,000      |\n",
    "| 50,000      |\n",
    "| 50,000      |\n",
    "| 54,000      |\n",
    "| 55,000      |\n",
    "| 59,000      |\n",
    "| 189,000     |\n",
    "\n",
    "Există un număr impar de observații (7), astfel încât valoarea mediană se află în poziția (7 + 1) &div; 2; cu alte cuvinte, în poziția 4:\n",
    "\n",
    "| Salary      |\n",
    "|-------------|\n",
    "| 40,000      |\n",
    "| 50,000      |\n",
    "| 50,000      |\n",
    "|***>54,000*** |\n",
    "| 55,000      |\n",
    "| 59,000      |\n",
    "| 189,000     |\n",
    "\n",
    "Așadar, mediana salariului este de **54.000**.\n",
    "\n",
    "În python implementăm asta astfel:"
   ]
  },
  {
   "cell_type": "code",
   "execution_count": 23,
   "metadata": {},
   "outputs": [
    {
     "data": {
      "text/plain": [
       "54000.0"
      ]
     },
     "execution_count": 23,
     "metadata": {},
     "output_type": "execute_result"
    }
   ],
   "source": [
    "np.median(salarii)"
   ]
  },
  {
   "cell_type": "markdown",
   "metadata": {},
   "source": [
    "#### Mod ####\n",
    "O altă statistică conexă este *modul*, care indică valoarea care apare cel mai frecvent. Dacă vă gândiți bine, acesta este un indicator potențial bun al sumei pe care un student se poate aștepta să o câștige atunci când va absolvi școala; dintre toate salariile care sunt câștigate de foștii studenți, modul este câștigat de mai mulți decât oricare altul.\n",
    "\n",
    "Dacă ne uităm la lista noastră de salarii, există două cazuri de foști elevi care câștigă **50.000**, dar doar câte un singur caz pentru toate celelalte salarii:\n",
    "\n",
    "| Salary      |\n",
    "|-------------|\n",
    "| 40,000      |\n",
    "|***>50,000***|\n",
    "|***>50,000***|\n",
    "| 54,000      |\n",
    "| 55,000      |\n",
    "| 59,000      |\n",
    "| 189,000     |\n",
    "\n",
    "Prin urmare, modul este **50.000**.\n",
    "\n",
    "În python implementăm asta astfel:"
   ]
  },
  {
   "cell_type": "code",
   "execution_count": 25,
   "metadata": {},
   "outputs": [
    {
     "data": {
      "text/plain": [
       "ModeResult(mode=array([50000]), count=array([2]))"
      ]
     },
     "execution_count": 25,
     "metadata": {},
     "output_type": "execute_result"
    }
   ],
   "source": [
    "from scipy import stats\n",
    "\n",
    "stats.mode(salarii)"
   ]
  },
  {
   "cell_type": "markdown",
   "metadata": {},
   "source": [
    "##### Date multimodale\n",
    "Nu este neobișnuit ca un set de date să aibă mai mult de o valoare ca mod. De exemplu, să presupunem că Cosmin primește o mărire de salariu care îi duce salariul la **59.000**:\n",
    "\n",
    "\n",
    "| Salary      |\n",
    "|-------------|\n",
    "| 40,000      |\n",
    "|***>50,000***|\n",
    "|***>50,000***|\n",
    "| 54,000      |\n",
    "|***>59,000***|\n",
    "|***>59,000***|\n",
    "| 189,000     |\n",
    "\n",
    "\n",
    "Acum există două valori cu cea mai mare frecvență. Acest set de date este *bimodal*. Mai general, atunci când există mai mult de o valoare modală, datele sunt considerate *multimodale*.\n"
   ]
  },
  {
   "cell_type": "markdown",
   "metadata": {},
   "source": [
    "### Distribuție și densitate\n",
    "Acum că știm câte ceva despre găsirea centrului, putem începe să explorăm modul în care datele sunt distribuite în jurul acestuia. Ceea ce ne interesează aici este să înțelegem \"forma\" generală a distribuției datelor, astfel încât să putem începe să ne facem o idee despre ceea ce ar trebui să fie o valoare \"tipică\".\n",
    "\n",
    "Putem începe prin a găsi extremele - minimul și maximul. În cazul datelor noastre privind salariile, cel mai prost plătit absolvent al școlii noastre este Dan, cu un salariu de **40.000**; iar cel mai bine plătit absolvent este Ana, cu **189.000**.\n",
    "\n",
    "Rulați următorul cod pentru a compara salariile minime și maxime cu măsurile centrale pe care le-am calculat anterior:"
   ]
  },
  {
   "cell_type": "code",
   "execution_count": 27,
   "metadata": {},
   "outputs": [
    {
     "name": "stdout",
     "output_type": "stream",
     "text": [
      "Min: 40000\n",
      "Mode: ModeResult(mode=array([50000]), count=array([2]))\n",
      "Median: 54000.0\n",
      "Mean: 71000.0\n",
      "Max: 189000\n"
     ]
    }
   ],
   "source": [
    "print ('Min: ' + str(np.min(salarii)))\n",
    "print ('Mode: ' + str(stats.mode(salarii)))\n",
    "print ('Median: ' + str(np.median(salarii)))\n",
    "print ('Mean: ' + str(np.mean(salarii)))\n",
    "print ('Max: ' + str(np.max(salarii)))"
   ]
  },
  {
   "cell_type": "markdown",
   "metadata": {},
   "source": [
    "Putem examina aceste valori și ne putem face o idee despre modul în care sunt distribuite datele - de exemplu, putem observa că *media* este mai aproape de maxim decât *mediana* și că ambele sunt mai aproape de *min* decât de *max*.\n",
    "\n",
    "Cu toate acestea, în general, este mai ușor să ne facem o idee despre distribuție prin vizualizarea datelor. Să începem prin a crea o histogramă a salariilor, evidențiind salariile *medie* și *mediană* (*min*, *max* sunt destul de evidente, iar *modul* este acolo unde se află cea mai mare bară):"
   ]
  },
  {
   "cell_type": "code",
   "execution_count": 37,
   "metadata": {},
   "outputs": [
    {
     "data": {
      "text/plain": [
       "<matplotlib.lines.Line2D at 0x7fb517a2a220>"
      ]
     },
     "execution_count": 37,
     "metadata": {},
     "output_type": "execute_result"
    },
    {
     "data": {
      "image/png": "[encoded data removed]",
      "text/plain": [
       "<Figure size 432x288 with 1 Axes>"
      ]
     },
     "metadata": {
      "needs_background": "light"
     },
     "output_type": "display_data"
    }
   ],
   "source": [
    "import matplotlib.pyplot as plt\n",
    "import numpy as np\n",
    "%matplotlib inline\n",
    "\n",
    "\n",
    "plt.hist(salarii, density=True, color='lightblue', bins=25)  # density=False would make counts\n",
    "plt.ylabel('Probability')\n",
    "plt.xlabel('Data');\n",
    "\n",
    "plt.axvline(salarii.mean(), color='magenta', linestyle='dashed', linewidth=2)\n",
    "plt.axvline(np.median(salarii), color='green', linestyle='dashed', linewidth=2)"
   ]
  },
  {
   "cell_type": "markdown",
   "metadata": {},
   "source": [
    "<span style=\"color:magenta\">***Media***</span> și <span style=\"color:green\">***mediana***</span> sunt reprezentate prin linii punctate. Rețineți următoarele:\n",
    "- *Salariul* este o valoare de date continuă - absolvenții ar putea câștiga orice valoare de-a lungul axei, chiar și până la o fracțiune de cent.\n",
    "- Numărul de bini din histogramă determină dimensiunea fiecărei benzi salariale pentru care numărăm frecvențele. Un număr mai mic de bins înseamnă îmbinarea mai multor salarii individuale pentru a fi numărate ca un grup.\n",
    "- Majoritatea datelor se află în partea stângă a histogramei, ceea ce reflectă faptul că majoritatea absolvenților câștigă între 40 000 și 55 000 de euro.\n",
    "- Media este o valoare mai mare decât mediana și modul.\n",
    "- Există goluri în histogramă pentru intervale salariale pe care nu le câștigă nimeni.\n",
    "\n",
    "Histograma arată frecvența relativă a fiecărei categorii de salarizare, în funcție de numărul de bins. De asemenea, ne dă o idee despre *densitatea* datelor pentru fiecare punct de pe scara salarială. Cu un număr suficient de puncte de date și cu intervale suficient de mici, am putea vedea această densitate ca pe o linie care arată forma distribuției datelor."
   ]
  },
  {
   "cell_type": "code",
   "execution_count": null,
   "metadata": {},
   "outputs": [],
   "source": []
  }
 ],
 "metadata": {
  "kernelspec": {
   "display_name": "Python 3 (ipykernel)",
   "language": "python",
   "name": "python3"
  },
  "language_info": {
   "codemirror_mode": {
    "name": "ipython",
    "version": 3
   },
   "file_extension": ".py",
   "mimetype": "text/x-python",
   "name": "python",
   "nbconvert_exporter": "python",
   "pygments_lexer": "ipython3",
   "version": "3.9.7"
  }
 },
 "nbformat": 4,
 "nbformat_minor": 2
}
