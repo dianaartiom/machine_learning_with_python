{
 "cells": [
  {
   "cell_type": "markdown",
   "metadata": {
    "id": "l3euXADKgped"
   },
   "source": [
    "## Tema pentru acasa: Vectori și Matrici\n",
    "\n",
    "Implementati urmatoarele functii:"
   ]
  },
  {
   "cell_type": "markdown",
   "metadata": {
    "id": "rTbmGEftejgg"
   },
   "source": [
    "Scrie o functie care aduna doi vectori. Verifica pe un exemplu daca functia lucreaza. \n",
    "Iată formula:\n",
    "\\begin{equation}\\vec{z} = \\vec{v}+\\vec{s}\\end{equation}\n",
    "\n",
    "Un exempu are fi:\n",
    "\\begin{equation}\\vec{z} = \\begin{bmatrix}2 \\\\ 1 \\end{bmatrix} + \\begin{bmatrix}-3 \\\\ 2 \\end{bmatrix}\\end{equation}"
   ]
  },
  {
   "cell_type": "code",
   "execution_count": null,
   "metadata": {
    "id": "Ie3-Yp9zenDI"
   },
   "outputs": [],
   "source": [
    "def aduna_vectori(v1, v2):\n",
    "    pass"
   ]
  },
  {
   "cell_type": "markdown",
   "metadata": {
    "id": "BtlfCWAteYh2"
   },
   "source": [
    "Scrie o functie care calculeaza magnitudinea unui vector de orice dimensiune. Verifica pe un exemplu daca functia lucreaza. "
   ]
  },
  {
   "cell_type": "code",
   "execution_count": null,
   "metadata": {
    "id": "PV71S7nKee9U"
   },
   "outputs": [],
   "source": [
    "def magnitudine(v):\n",
    "    pass"
   ]
  },
  {
   "cell_type": "markdown",
   "metadata": {
    "id": "kRFSFjHyfTMw"
   },
   "source": [
    "Scrie o functie care sa adune urmatoarele doua matrici:\n",
    "\n",
    "\\begin{equation}A = \\begin{bmatrix}1 & 2 & 3 \\\\4 & 5 & 6\\end{bmatrix}\\end{equation}\n",
    "\n",
    "\\begin{equation}B = \\begin{bmatrix}6 & 5 & 4 \\\\3 & 2 & 1\\end{bmatrix}\\end{equation}\n",
    "\n",
    "\\begin{equation}A + B = ?\\end{equation}\n",
    "\n",
    " Verifica pe un exemplu daca functia lucreaza. "
   ]
  },
  {
   "cell_type": "code",
   "execution_count": null,
   "metadata": {
    "id": "YBhP0PXgfK2M"
   },
   "outputs": [],
   "source": [
    "def aduna_matrici(A, B):\n",
    "    pass"
   ]
  },
  {
   "cell_type": "markdown",
   "metadata": {
    "id": "DS4vIewXfvO0"
   },
   "source": [
    "Scrie o functie care sa scada urmatoarele doua matrici:\n",
    "\n",
    "\\begin{equation}A = \\begin{bmatrix}1 & 2 & 3 \\\\4 & 5 & 6\\end{bmatrix}\\end{equation}\n",
    "\n",
    "\\begin{equation}B = \\begin{bmatrix}6 & 5 & 4 \\\\3 & 2 & 1\\end{bmatrix}\\end{equation}\n",
    "\n",
    "\\begin{equation}A - B = ?\\end{equation}\n",
    "\n",
    " Verifica pe un exemplu daca functia lucreaza. "
   ]
  },
  {
   "cell_type": "code",
   "execution_count": null,
   "metadata": {
    "id": "XBz_-W9jf1Z2"
   },
   "outputs": [],
   "source": [
    "def scade_matrici(A, B):\n",
    "    pass"
   ]
  }
 ],
 "metadata": {
  "colab": {
   "collapsed_sections": [],
   "name": "L2HW2 - Vectori și Matrici.ipynb",
   "provenance": []
  },
  "kernelspec": {
   "display_name": "Python 3 (ipykernel)",
   "language": "python",
   "name": "python3"
  },
  "language_info": {
   "codemirror_mode": {
    "name": "ipython",
    "version": 3
   },
   "file_extension": ".py",
   "mimetype": "text/x-python",
   "name": "python",
   "nbconvert_exporter": "python",
   "pygments_lexer": "ipython3",
   "version": "3.9.7"
  }
 },
 "nbformat": 4,
 "nbformat_minor": 1
}
