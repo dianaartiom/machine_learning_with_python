{
 "cells": [
  {
   "cell_type": "markdown",
   "id": "16b16e1b",
   "metadata": {},
   "source": [
    "## Sarcina 1: Foloseste KNearestNeighbor de la sklearn pentru prezicerea ratei de dezabonare a clientilor unei companii de telecom"
   ]
  },
  {
   "cell_type": "markdown",
   "id": "b92e8c77",
   "metadata": {},
   "source": [
    "**Incarcam setul de date.**"
   ]
  },
  {
   "cell_type": "code",
   "execution_count": null,
   "id": "cb4197d6",
   "metadata": {},
   "outputs": [],
   "source": [
    "!mkdir data && curl -o data/adult.data.csv -LJO https://github.com/dianaartiom/machine_learning_with_python/raw/main/lesson03/notebooks/data/adult.data.csv"
   ]
  },
  {
   "cell_type": "code",
   "execution_count": null,
   "id": "6cae7b56",
   "metadata": {},
   "outputs": [],
   "source": [
    "dataset = pd.read_csv(\"../../lesson03/notebooks/data/telecom_churn.csv\")\n",
    "dataset.head()"
   ]
  },
  {
   "cell_type": "markdown",
   "id": "8bbc1a62",
   "metadata": {},
   "source": [
    "**Pentru coloana *Voice mail plan* schimba valorile din No/Yes in 0/1**"
   ]
  },
  {
   "cell_type": "code",
   "execution_count": 1,
   "id": "f78e866a",
   "metadata": {},
   "outputs": [],
   "source": [
    "# Scrie solutia ta aici"
   ]
  },
  {
   "cell_type": "markdown",
   "id": "fb195719",
   "metadata": {},
   "source": [
    "**Extrage setul de date X din dataframe (dataset) folosind doar caracteristicile numerice (e.g. \"Voice mail plan\", \"Number vmail messages\", \"Total day minutes\", \"Total day calls\", \"Total eve minutes\", \"Total eve calls\", \"Total night minutes\", \"Total night calls\", \"Total intl minutes\", \"Total intl calls\", \"Customer service calls\")**"
   ]
  },
  {
   "cell_type": "markdown",
   "id": "d2946e12",
   "metadata": {},
   "source": [
    "**Caracteristica target este *Churn*.**"
   ]
  },
  {
   "cell_type": "code",
   "execution_count": null,
   "id": "dac32b8b",
   "metadata": {},
   "outputs": [],
   "source": [
    "features = [\"Voice mail plan\", \"Number vmail messages\", \"Total day minutes\", \"Total day calls\", \"Total eve minutes\", \"Total eve calls\", \"Total night minutes\", \"Total night calls\", \"Total intl minutes\", \"Total intl calls\", \"Customer service calls\"]\n",
    "# X = ...\n",
    "# y = ..."
   ]
  },
  {
   "cell_type": "markdown",
   "id": "72f83339",
   "metadata": {},
   "source": [
    "**Imparte setul de date in: date si label de antrenare, date si labbel de test. Foloseste functia *train_test_split* din *sklearn*.**"
   ]
  },
  {
   "cell_type": "code",
   "execution_count": 2,
   "id": "326ab127",
   "metadata": {},
   "outputs": [],
   "source": [
    "# X_train, X_test, Y_train, Y_test = ..."
   ]
  },
  {
   "cell_type": "markdown",
   "id": "f21b5681",
   "metadata": {},
   "source": [
    "**Importa din sklearn modelul KNearestNeighbor, antreneaza-l cu ajutorul metodei *fit()* si prezice valorile pentru X_test.**"
   ]
  },
  {
   "cell_type": "code",
   "execution_count": null,
   "id": "ca2e5b2b",
   "metadata": {},
   "outputs": [],
   "source": [
    "# Scrie solutia ta aici"
   ]
  },
  {
   "cell_type": "markdown",
   "id": "00485693",
   "metadata": {},
   "source": [
    "**Care este acuratetea modelului obtinut? Poti folosi functia *accuracy_score()* de la *sklearn*.** "
   ]
  },
  {
   "cell_type": "code",
   "execution_count": null,
   "id": "c28472b1",
   "metadata": {},
   "outputs": [],
   "source": [
    "# Scrie solutia ta aici"
   ]
  },
  {
   "cell_type": "markdown",
   "id": "eb0e3547",
   "metadata": {},
   "source": [
    "## Sarcina 2: Foloseste propria ta implementare KNearestNeighbor pentru prezicerea ratei de dezabonare a clientilor unei companii de telecom. Compara timpul luat de modelul tau cu timpul luat de libraria sklearn"
   ]
  },
  {
   "cell_type": "code",
   "execution_count": null,
   "id": "96d5a7f2",
   "metadata": {},
   "outputs": [],
   "source": []
  }
 ],
 "metadata": {
  "kernelspec": {
   "display_name": "Python 3 (ipykernel)",
   "language": "python",
   "name": "python3"
  },
  "language_info": {
   "codemirror_mode": {
    "name": "ipython",
    "version": 3
   },
   "file_extension": ".py",
   "mimetype": "text/x-python",
   "name": "python",
   "nbconvert_exporter": "python",
   "pygments_lexer": "ipython3",
   "version": "3.9.7"
  }
 },
 "nbformat": 4,
 "nbformat_minor": 5
}
