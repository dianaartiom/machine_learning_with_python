{
  "nbformat": 4,
  "nbformat_minor": 0,
  "metadata": {
    "colab": {
      "name": "Solution L6HW6 - Logistic Regression.ipynb",
      "provenance": [],
      "collapsed_sections": []
    },
    "kernelspec": {
      "name": "python3",
      "display_name": "Python 3"
    },
    "language_info": {
      "name": "python"
    }
  },
  "cells": [
    {
      "cell_type": "markdown",
      "source": [
        "## Tema pentru acasa nr. 6\n",
        "In aceasta tema pentru acasa va trebui sa incarcati un set de date, sa verificati daca exista valor care trebuie omise, prelucrate, etc. Apoi, avand separate X si y -> preziceti valoarea lui y si calculati acuratetea prezicerilor.\n",
        "\n",
        "Importam librariile necesare pentru efectuarea sarcinilor din aceasta lectie. "
      ],
      "metadata": {
        "id": "6f27PhtBT2zQ"
      }
    },
    {
      "cell_type": "code",
      "execution_count": null,
      "metadata": {
        "id": "c5JgYJmbnBTc"
      },
      "outputs": [],
      "source": [
        "import numpy as np\n",
        "import pandas as pd\n",
        "from sklearn.model_selection import train_test_split\n",
        "from sklearn.preprocessing import StandardScaler\n",
        "from sklearn.linear_model import LogisticRegression\n",
        "from sklearn.pipeline import Pipeline\n",
        "from sklearn.metrics import roc_curve, roc_auc_score, plot_roc_curve, classification_report, accuracy_score, confusion_matrix, recall_score, precision_score\n",
        "import matplotlib.pyplot as plt\n",
        "import seaborn as sns"
      ]
    },
    {
      "cell_type": "markdown",
      "source": [
        "Descarcam setul de date din repozitoria cursului:"
      ],
      "metadata": {
        "id": "3j6IM6ESUPVr"
      }
    },
    {
      "cell_type": "code",
      "source": [
        "!rm -rf data && mkdir data && curl -o data/datatest.txt -LJO https://github.com/dianaartiom/machine_learning_with_python/raw/main/lesson06/notebooks/data/datatest.txt"
      ],
      "metadata": {
        "colab": {
          "base_uri": "https://localhost:8080/"
        },
        "id": "MEY09j4AnG7J",
        "outputId": "09e1d673-f2b2-4b39-ccff-571cf49ca90a"
      },
      "execution_count": null,
      "outputs": [
        {
          "output_type": "stream",
          "name": "stdout",
          "text": [
            "  % Total    % Received % Xferd  Average Speed   Time    Time     Time  Current\n",
            "                                 Dload  Upload   Total   Spent    Left  Speed\n",
            "  0     0    0     0    0     0      0      0 --:--:-- --:--:-- --:--:--     0\n",
            "100  196k  100  196k    0     0   228k      0 --:--:-- --:--:-- --:--:-- 5712k\n"
          ]
        }
      ]
    },
    {
      "cell_type": "markdown",
      "source": [
        "In aceasta tema pentru acasa se va lucra cu un set de date care descrie daca odaile dintr-ul oficiu sunt ocupate sau nu (coloana *occupancy*) in dependenta de informatie precum temperatura camerei, umeditatea, luminozitatea, umiditatea, cantitatea de CO2 in acea camera.\n",
        "\n",
        "Attribute Information:\n",
        "\n",
        "- date time year-month-day hour:minute:second\n",
        "- Temperature, in Celsius\n",
        "- Relative Humidity, %\n",
        "- Light, in Lux\n",
        "- CO2, in ppm\n",
        "- Humidity Ratio, Derived quantity from temperature and relative humidity, in kgwater-vapor/kg-air\n",
        "- Occupancy, 0 or 1, 0 for not occupied, 1 for occupied status\n",
        "\n",
        "Incarcam setul de date cu ajutorul *pandas.read_csv()*. Mai multe informatii despre setul de date pot fi gasite aici: https://archive.ics.uci.edu/ml/datasets/Occupancy+Detection+"
      ],
      "metadata": {
        "id": "8Rpg0Zc4UTXO"
      }
    },
    {
      "cell_type": "code",
      "source": [
        "# load data\n",
        "occupancy_df = pd.read_csv('data/datatest.txt', sep = ',')\n",
        "occupancy_df.head()"
      ],
      "metadata": {
        "colab": {
          "base_uri": "https://localhost:8080/",
          "height": 206
        },
        "id": "7IWi3QRnnTfT",
        "outputId": "cc1a3b43-1acf-4696-c3f7-93c39b99a9f0"
      },
      "execution_count": null,
      "outputs": [
        {
          "output_type": "execute_result",
          "data": {
            "text/plain": [
              "                    date  Temperature  Humidity       Light         CO2  \\\n",
              "140  2015-02-02 14:19:00      23.7000    26.272  585.200000  749.200000   \n",
              "141  2015-02-02 14:19:59      23.7180    26.290  578.400000  760.400000   \n",
              "142  2015-02-02 14:21:00      23.7300    26.230  572.666667  769.666667   \n",
              "143  2015-02-02 14:22:00      23.7225    26.125  493.750000  774.750000   \n",
              "144  2015-02-02 14:23:00      23.7540    26.200  488.600000  779.000000   \n",
              "\n",
              "     HumidityRatio  Occupancy  \n",
              "140       0.004764          1  \n",
              "141       0.004773          1  \n",
              "142       0.004765          1  \n",
              "143       0.004744          1  \n",
              "144       0.004767          1  "
            ],
            "text/html": [
              "\n",
              "  <div id=\"df-12cc61b2-873e-428b-b3f2-c3df98f4c7c7\">\n",
              "    <div class=\"colab-df-container\">\n",
              "      <div>\n",
              "<style scoped>\n",
              "    .dataframe tbody tr th:only-of-type {\n",
              "        vertical-align: middle;\n",
              "    }\n",
              "\n",
              "    .dataframe tbody tr th {\n",
              "        vertical-align: top;\n",
              "    }\n",
              "\n",
              "    .dataframe thead th {\n",
              "        text-align: right;\n",
              "    }\n",
              "</style>\n",
              "<table border=\"1\" class=\"dataframe\">\n",
              "  <thead>\n",
              "    <tr style=\"text-align: right;\">\n",
              "      <th></th>\n",
              "      <th>date</th>\n",
              "      <th>Temperature</th>\n",
              "      <th>Humidity</th>\n",
              "      <th>Light</th>\n",
              "      <th>CO2</th>\n",
              "      <th>HumidityRatio</th>\n",
              "      <th>Occupancy</th>\n",
              "    </tr>\n",
              "  </thead>\n",
              "  <tbody>\n",
              "    <tr>\n",
              "      <th>140</th>\n",
              "      <td>2015-02-02 14:19:00</td>\n",
              "      <td>23.7000</td>\n",
              "      <td>26.272</td>\n",
              "      <td>585.200000</td>\n",
              "      <td>749.200000</td>\n",
              "      <td>0.004764</td>\n",
              "      <td>1</td>\n",
              "    </tr>\n",
              "    <tr>\n",
              "      <th>141</th>\n",
              "      <td>2015-02-02 14:19:59</td>\n",
              "      <td>23.7180</td>\n",
              "      <td>26.290</td>\n",
              "      <td>578.400000</td>\n",
              "      <td>760.400000</td>\n",
              "      <td>0.004773</td>\n",
              "      <td>1</td>\n",
              "    </tr>\n",
              "    <tr>\n",
              "      <th>142</th>\n",
              "      <td>2015-02-02 14:21:00</td>\n",
              "      <td>23.7300</td>\n",
              "      <td>26.230</td>\n",
              "      <td>572.666667</td>\n",
              "      <td>769.666667</td>\n",
              "      <td>0.004765</td>\n",
              "      <td>1</td>\n",
              "    </tr>\n",
              "    <tr>\n",
              "      <th>143</th>\n",
              "      <td>2015-02-02 14:22:00</td>\n",
              "      <td>23.7225</td>\n",
              "      <td>26.125</td>\n",
              "      <td>493.750000</td>\n",
              "      <td>774.750000</td>\n",
              "      <td>0.004744</td>\n",
              "      <td>1</td>\n",
              "    </tr>\n",
              "    <tr>\n",
              "      <th>144</th>\n",
              "      <td>2015-02-02 14:23:00</td>\n",
              "      <td>23.7540</td>\n",
              "      <td>26.200</td>\n",
              "      <td>488.600000</td>\n",
              "      <td>779.000000</td>\n",
              "      <td>0.004767</td>\n",
              "      <td>1</td>\n",
              "    </tr>\n",
              "  </tbody>\n",
              "</table>\n",
              "</div>\n",
              "      <button class=\"colab-df-convert\" onclick=\"convertToInteractive('df-12cc61b2-873e-428b-b3f2-c3df98f4c7c7')\"\n",
              "              title=\"Convert this dataframe to an interactive table.\"\n",
              "              style=\"display:none;\">\n",
              "        \n",
              "  <svg xmlns=\"http://www.w3.org/2000/svg\" height=\"24px\"viewBox=\"0 0 24 24\"\n",
              "       width=\"24px\">\n",
              "    <path d=\"M0 0h24v24H0V0z\" fill=\"none\"/>\n",
              "    <path d=\"M18.56 5.44l.94 2.06.94-2.06 2.06-.94-2.06-.94-.94-2.06-.94 2.06-2.06.94zm-11 1L8.5 8.5l.94-2.06 2.06-.94-2.06-.94L8.5 2.5l-.94 2.06-2.06.94zm10 10l.94 2.06.94-2.06 2.06-.94-2.06-.94-.94-2.06-.94 2.06-2.06.94z\"/><path d=\"M17.41 7.96l-1.37-1.37c-.4-.4-.92-.59-1.43-.59-.52 0-1.04.2-1.43.59L10.3 9.45l-7.72 7.72c-.78.78-.78 2.05 0 2.83L4 21.41c.39.39.9.59 1.41.59.51 0 1.02-.2 1.41-.59l7.78-7.78 2.81-2.81c.8-.78.8-2.07 0-2.86zM5.41 20L4 18.59l7.72-7.72 1.47 1.35L5.41 20z\"/>\n",
              "  </svg>\n",
              "      </button>\n",
              "      \n",
              "  <style>\n",
              "    .colab-df-container {\n",
              "      display:flex;\n",
              "      flex-wrap:wrap;\n",
              "      gap: 12px;\n",
              "    }\n",
              "\n",
              "    .colab-df-convert {\n",
              "      background-color: #E8F0FE;\n",
              "      border: none;\n",
              "      border-radius: 50%;\n",
              "      cursor: pointer;\n",
              "      display: none;\n",
              "      fill: #1967D2;\n",
              "      height: 32px;\n",
              "      padding: 0 0 0 0;\n",
              "      width: 32px;\n",
              "    }\n",
              "\n",
              "    .colab-df-convert:hover {\n",
              "      background-color: #E2EBFA;\n",
              "      box-shadow: 0px 1px 2px rgba(60, 64, 67, 0.3), 0px 1px 3px 1px rgba(60, 64, 67, 0.15);\n",
              "      fill: #174EA6;\n",
              "    }\n",
              "\n",
              "    [theme=dark] .colab-df-convert {\n",
              "      background-color: #3B4455;\n",
              "      fill: #D2E3FC;\n",
              "    }\n",
              "\n",
              "    [theme=dark] .colab-df-convert:hover {\n",
              "      background-color: #434B5C;\n",
              "      box-shadow: 0px 1px 3px 1px rgba(0, 0, 0, 0.15);\n",
              "      filter: drop-shadow(0px 1px 2px rgba(0, 0, 0, 0.3));\n",
              "      fill: #FFFFFF;\n",
              "    }\n",
              "  </style>\n",
              "\n",
              "      <script>\n",
              "        const buttonEl =\n",
              "          document.querySelector('#df-12cc61b2-873e-428b-b3f2-c3df98f4c7c7 button.colab-df-convert');\n",
              "        buttonEl.style.display =\n",
              "          google.colab.kernel.accessAllowed ? 'block' : 'none';\n",
              "\n",
              "        async function convertToInteractive(key) {\n",
              "          const element = document.querySelector('#df-12cc61b2-873e-428b-b3f2-c3df98f4c7c7');\n",
              "          const dataTable =\n",
              "            await google.colab.kernel.invokeFunction('convertToInteractive',\n",
              "                                                     [key], {});\n",
              "          if (!dataTable) return;\n",
              "\n",
              "          const docLinkHtml = 'Like what you see? Visit the ' +\n",
              "            '<a target=\"_blank\" href=https://colab.research.google.com/notebooks/data_table.ipynb>data table notebook</a>'\n",
              "            + ' to learn more about interactive tables.';\n",
              "          element.innerHTML = '';\n",
              "          dataTable['output_type'] = 'display_data';\n",
              "          await google.colab.output.renderOutput(dataTable, element);\n",
              "          const docLink = document.createElement('div');\n",
              "          docLink.innerHTML = docLinkHtml;\n",
              "          element.appendChild(docLink);\n",
              "        }\n",
              "      </script>\n",
              "    </div>\n",
              "  </div>\n",
              "  "
            ]
          },
          "metadata": {},
          "execution_count": 4
        }
      ]
    },
    {
      "cell_type": "markdown",
      "source": [
        "Eliminam coloana *date* din setul de date si transformam valorile categorice cu ajutorul metodei *pd.get_dummies()*."
      ],
      "metadata": {
        "id": "_rH6Tw8ZUdn9"
      }
    },
    {
      "cell_type": "code",
      "source": [
        "occupancy_df = occupancy_df.drop('date', axis = 1)\n",
        "occupancy_df = pd.get_dummies(occupancy_df)\n",
        "\n",
        "occupancy_df.head()"
      ],
      "metadata": {
        "colab": {
          "base_uri": "https://localhost:8080/",
          "height": 206
        },
        "id": "tEV5nT5dnV_4",
        "outputId": "6ef2a53f-2676-49af-ab1f-db56ab2bbab1"
      },
      "execution_count": null,
      "outputs": [
        {
          "output_type": "execute_result",
          "data": {
            "text/plain": [
              "     Temperature  Humidity       Light         CO2  HumidityRatio  Occupancy\n",
              "140      23.7000    26.272  585.200000  749.200000       0.004764          1\n",
              "141      23.7180    26.290  578.400000  760.400000       0.004773          1\n",
              "142      23.7300    26.230  572.666667  769.666667       0.004765          1\n",
              "143      23.7225    26.125  493.750000  774.750000       0.004744          1\n",
              "144      23.7540    26.200  488.600000  779.000000       0.004767          1"
            ],
            "text/html": [
              "\n",
              "  <div id=\"df-cc5ef562-2388-4a18-912d-646873a38802\">\n",
              "    <div class=\"colab-df-container\">\n",
              "      <div>\n",
              "<style scoped>\n",
              "    .dataframe tbody tr th:only-of-type {\n",
              "        vertical-align: middle;\n",
              "    }\n",
              "\n",
              "    .dataframe tbody tr th {\n",
              "        vertical-align: top;\n",
              "    }\n",
              "\n",
              "    .dataframe thead th {\n",
              "        text-align: right;\n",
              "    }\n",
              "</style>\n",
              "<table border=\"1\" class=\"dataframe\">\n",
              "  <thead>\n",
              "    <tr style=\"text-align: right;\">\n",
              "      <th></th>\n",
              "      <th>Temperature</th>\n",
              "      <th>Humidity</th>\n",
              "      <th>Light</th>\n",
              "      <th>CO2</th>\n",
              "      <th>HumidityRatio</th>\n",
              "      <th>Occupancy</th>\n",
              "    </tr>\n",
              "  </thead>\n",
              "  <tbody>\n",
              "    <tr>\n",
              "      <th>140</th>\n",
              "      <td>23.7000</td>\n",
              "      <td>26.272</td>\n",
              "      <td>585.200000</td>\n",
              "      <td>749.200000</td>\n",
              "      <td>0.004764</td>\n",
              "      <td>1</td>\n",
              "    </tr>\n",
              "    <tr>\n",
              "      <th>141</th>\n",
              "      <td>23.7180</td>\n",
              "      <td>26.290</td>\n",
              "      <td>578.400000</td>\n",
              "      <td>760.400000</td>\n",
              "      <td>0.004773</td>\n",
              "      <td>1</td>\n",
              "    </tr>\n",
              "    <tr>\n",
              "      <th>142</th>\n",
              "      <td>23.7300</td>\n",
              "      <td>26.230</td>\n",
              "      <td>572.666667</td>\n",
              "      <td>769.666667</td>\n",
              "      <td>0.004765</td>\n",
              "      <td>1</td>\n",
              "    </tr>\n",
              "    <tr>\n",
              "      <th>143</th>\n",
              "      <td>23.7225</td>\n",
              "      <td>26.125</td>\n",
              "      <td>493.750000</td>\n",
              "      <td>774.750000</td>\n",
              "      <td>0.004744</td>\n",
              "      <td>1</td>\n",
              "    </tr>\n",
              "    <tr>\n",
              "      <th>144</th>\n",
              "      <td>23.7540</td>\n",
              "      <td>26.200</td>\n",
              "      <td>488.600000</td>\n",
              "      <td>779.000000</td>\n",
              "      <td>0.004767</td>\n",
              "      <td>1</td>\n",
              "    </tr>\n",
              "  </tbody>\n",
              "</table>\n",
              "</div>\n",
              "      <button class=\"colab-df-convert\" onclick=\"convertToInteractive('df-cc5ef562-2388-4a18-912d-646873a38802')\"\n",
              "              title=\"Convert this dataframe to an interactive table.\"\n",
              "              style=\"display:none;\">\n",
              "        \n",
              "  <svg xmlns=\"http://www.w3.org/2000/svg\" height=\"24px\"viewBox=\"0 0 24 24\"\n",
              "       width=\"24px\">\n",
              "    <path d=\"M0 0h24v24H0V0z\" fill=\"none\"/>\n",
              "    <path d=\"M18.56 5.44l.94 2.06.94-2.06 2.06-.94-2.06-.94-.94-2.06-.94 2.06-2.06.94zm-11 1L8.5 8.5l.94-2.06 2.06-.94-2.06-.94L8.5 2.5l-.94 2.06-2.06.94zm10 10l.94 2.06.94-2.06 2.06-.94-2.06-.94-.94-2.06-.94 2.06-2.06.94z\"/><path d=\"M17.41 7.96l-1.37-1.37c-.4-.4-.92-.59-1.43-.59-.52 0-1.04.2-1.43.59L10.3 9.45l-7.72 7.72c-.78.78-.78 2.05 0 2.83L4 21.41c.39.39.9.59 1.41.59.51 0 1.02-.2 1.41-.59l7.78-7.78 2.81-2.81c.8-.78.8-2.07 0-2.86zM5.41 20L4 18.59l7.72-7.72 1.47 1.35L5.41 20z\"/>\n",
              "  </svg>\n",
              "      </button>\n",
              "      \n",
              "  <style>\n",
              "    .colab-df-container {\n",
              "      display:flex;\n",
              "      flex-wrap:wrap;\n",
              "      gap: 12px;\n",
              "    }\n",
              "\n",
              "    .colab-df-convert {\n",
              "      background-color: #E8F0FE;\n",
              "      border: none;\n",
              "      border-radius: 50%;\n",
              "      cursor: pointer;\n",
              "      display: none;\n",
              "      fill: #1967D2;\n",
              "      height: 32px;\n",
              "      padding: 0 0 0 0;\n",
              "      width: 32px;\n",
              "    }\n",
              "\n",
              "    .colab-df-convert:hover {\n",
              "      background-color: #E2EBFA;\n",
              "      box-shadow: 0px 1px 2px rgba(60, 64, 67, 0.3), 0px 1px 3px 1px rgba(60, 64, 67, 0.15);\n",
              "      fill: #174EA6;\n",
              "    }\n",
              "\n",
              "    [theme=dark] .colab-df-convert {\n",
              "      background-color: #3B4455;\n",
              "      fill: #D2E3FC;\n",
              "    }\n",
              "\n",
              "    [theme=dark] .colab-df-convert:hover {\n",
              "      background-color: #434B5C;\n",
              "      box-shadow: 0px 1px 3px 1px rgba(0, 0, 0, 0.15);\n",
              "      filter: drop-shadow(0px 1px 2px rgba(0, 0, 0, 0.3));\n",
              "      fill: #FFFFFF;\n",
              "    }\n",
              "  </style>\n",
              "\n",
              "      <script>\n",
              "        const buttonEl =\n",
              "          document.querySelector('#df-cc5ef562-2388-4a18-912d-646873a38802 button.colab-df-convert');\n",
              "        buttonEl.style.display =\n",
              "          google.colab.kernel.accessAllowed ? 'block' : 'none';\n",
              "\n",
              "        async function convertToInteractive(key) {\n",
              "          const element = document.querySelector('#df-cc5ef562-2388-4a18-912d-646873a38802');\n",
              "          const dataTable =\n",
              "            await google.colab.kernel.invokeFunction('convertToInteractive',\n",
              "                                                     [key], {});\n",
              "          if (!dataTable) return;\n",
              "\n",
              "          const docLinkHtml = 'Like what you see? Visit the ' +\n",
              "            '<a target=\"_blank\" href=https://colab.research.google.com/notebooks/data_table.ipynb>data table notebook</a>'\n",
              "            + ' to learn more about interactive tables.';\n",
              "          element.innerHTML = '';\n",
              "          dataTable['output_type'] = 'display_data';\n",
              "          await google.colab.output.renderOutput(dataTable, element);\n",
              "          const docLink = document.createElement('div');\n",
              "          docLink.innerHTML = docLinkHtml;\n",
              "          element.appendChild(docLink);\n",
              "        }\n",
              "      </script>\n",
              "    </div>\n",
              "  </div>\n",
              "  "
            ]
          },
          "metadata": {},
          "execution_count": 5
        }
      ]
    },
    {
      "cell_type": "code",
      "source": [
        "occupancy_df.info()"
      ],
      "metadata": {
        "colab": {
          "base_uri": "https://localhost:8080/"
        },
        "id": "eVRD0EU7n3Nt",
        "outputId": "98824b99-07b3-4263-9099-c6608483444c"
      },
      "execution_count": null,
      "outputs": [
        {
          "output_type": "stream",
          "name": "stdout",
          "text": [
            "<class 'pandas.core.frame.DataFrame'>\n",
            "Int64Index: 2665 entries, 140 to 2804\n",
            "Data columns (total 6 columns):\n",
            " #   Column         Non-Null Count  Dtype  \n",
            "---  ------         --------------  -----  \n",
            " 0   Temperature    2665 non-null   float64\n",
            " 1   Humidity       2665 non-null   float64\n",
            " 2   Light          2665 non-null   float64\n",
            " 3   CO2            2665 non-null   float64\n",
            " 4   HumidityRatio  2665 non-null   float64\n",
            " 5   Occupancy      2665 non-null   int64  \n",
            "dtypes: float64(5), int64(1)\n",
            "memory usage: 145.7 KB\n"
          ]
        }
      ]
    },
    {
      "cell_type": "markdown",
      "source": [
        "Separa setul in date -> X si label -> y (coloana *Occupancy*):"
      ],
      "metadata": {
        "id": "oPoZ_n6No4mx"
      }
    },
    {
      "cell_type": "code",
      "source": [
        "X = occupancy_df.loc[:, occupancy_df.columns != 'Occupancy']\n",
        "y = occupancy_df[['Occupancy']]"
      ],
      "metadata": {
        "id": "dmtzQvxuoClY"
      },
      "execution_count": null,
      "outputs": []
    },
    {
      "cell_type": "markdown",
      "source": [
        "Imparte setul de date in: date de antrenare si date pentru test cu ajutorul functiei *train_test_split* din modulul *sklearn.model_selection*."
      ],
      "metadata": {
        "id": "XZBKNX0ypBxJ"
      }
    },
    {
      "cell_type": "code",
      "source": [
        "X_train, X_test, y_train, y_test = train_test_split(X, y, test_size = 0.2, random_state=42)"
      ],
      "metadata": {
        "id": "gbVg62Y7n-VP"
      },
      "execution_count": null,
      "outputs": []
    },
    {
      "cell_type": "markdown",
      "source": [
        "Cu ajutorul sklearn creeaza un *Pipeline* care contine un scaler si modelul de logisticRegression (vezi cum s-a facut in cadrul lectiei)."
      ],
      "metadata": {
        "id": "HCeUx4hbpRQA"
      }
    },
    {
      "cell_type": "code",
      "source": [
        "scaler = StandardScaler()\n",
        "lr = LogisticRegression()\n",
        "model1 = Pipeline([('standardize', scaler),\n",
        "                    ('log_reg', lr)])"
      ],
      "metadata": {
        "id": "X9LcJq1roSZ3"
      },
      "execution_count": null,
      "outputs": []
    },
    {
      "cell_type": "markdown",
      "source": [
        "Antreneaza modelul de mai sus cu ajutorul metodei *fit()*."
      ],
      "metadata": {
        "id": "Vmq8_tQLpdLt"
      }
    },
    {
      "cell_type": "code",
      "source": [
        "model1.fit(X_train, y_train)"
      ],
      "metadata": {
        "colab": {
          "base_uri": "https://localhost:8080/"
        },
        "id": "QzFvnCNZolja",
        "outputId": "d31289d8-571a-43f1-a436-92f2f733e978"
      },
      "execution_count": null,
      "outputs": [
        {
          "output_type": "stream",
          "name": "stderr",
          "text": [
            "/usr/local/lib/python3.7/dist-packages/sklearn/utils/validation.py:993: DataConversionWarning: A column-vector y was passed when a 1d array was expected. Please change the shape of y to (n_samples, ), for example using ravel().\n",
            "  y = column_or_1d(y, warn=True)\n"
          ]
        },
        {
          "output_type": "execute_result",
          "data": {
            "text/plain": [
              "Pipeline(steps=[('standardize', StandardScaler()),\n",
              "                ('log_reg', LogisticRegression())])"
            ]
          },
          "metadata": {},
          "execution_count": 10
        }
      ]
    },
    {
      "cell_type": "markdown",
      "source": [
        "Calculeaza predictiile (0/1 cu ajutorul metodei *predict()*) si probabilitatile (cu ajutorul metodei *predict_proba()*). Calculeaza acuratetea (cu ajutorul functiei *accuracy_score()*) si scorul AUC (cu ajutorul metodei *roc_auc_score()*), scorul recall (cu ajutorul metodei *recall_score()*) si scorul precision (cu ajutorul metodei *precision_score()*). Vezi cum s-a facut asta in cadrul "
      ],
      "metadata": {
        "id": "rXAqdiCvphwz"
      }
    },
    {
      "cell_type": "code",
      "source": [
        "y_train_hat = model1.predict(X_train)\n",
        "y_train_hat_probs = model1.predict_proba(X_train)[:,1]\n",
        "\n",
        "train_accuracy = accuracy_score(y_train, y_train_hat)*100\n",
        "train_auc_roc = roc_auc_score(y_train, y_train_hat_probs)*100\n",
        "\n",
        "print('Training AUC: %.4f %%' % train_auc_roc)\n",
        "\n",
        "print('Training accuracy: %.4f %%' % train_accuracy)\n",
        "\n",
        "print('Recall score: %.4f %%' % (recall_score(y_train, y_train_hat)*100))\n",
        "\n",
        "print('Precision score: %.4f %%' % (precision_score(y_train, y_train_hat)*100))"
      ],
      "metadata": {
        "colab": {
          "base_uri": "https://localhost:8080/"
        },
        "id": "dDo8PvvoonLL",
        "outputId": "d16dfd45-5779-4c52-dfa6-4e230364e0d8"
      },
      "execution_count": null,
      "outputs": [
        {
          "output_type": "stream",
          "name": "stdout",
          "text": [
            "Training AUC: 99.4612 %\n",
            "Training accuracy: 97.8893 %\n",
            "Recall score: 99.6198 %\n",
            "Precision score: 94.9275 %\n"
          ]
        }
      ]
    },
    {
      "cell_type": "markdown",
      "source": [
        "Repeta procedura de mai sus pentru setul de test."
      ],
      "metadata": {
        "id": "El7DV9ALqtKd"
      }
    },
    {
      "cell_type": "code",
      "source": [
        "y_test_hat = model1.predict(X_test)\n",
        "y_test_hat_probs = model1.predict_proba(X_test)[:,1]\n",
        "\n",
        "test_accuracy = accuracy_score(y_test, y_test_hat)*100\n",
        "test_auc_roc = roc_auc_score(y_test, y_test_hat_probs)*100\n",
        "\n",
        "print('Confusion matrix:\\n', confusion_matrix(y_test, y_test_hat))\n",
        "\n",
        "print('Testing AUC: %.4f %%' % test_auc_roc)\n",
        "\n",
        "print('Testing accuracy: %.4f %%' % test_accuracy) \n",
        "\n",
        "print('Recall score: %.4f %%' % (recall_score(y_train, y_train_hat)*100))\n",
        "\n",
        "print('Precision score: %.4f %%' % (precision_score(y_train, y_train_hat)*100))"
      ],
      "metadata": {
        "colab": {
          "base_uri": "https://localhost:8080/"
        },
        "id": "xZcvh0GBoovH",
        "outputId": "76b3c093-81ce-46cb-da76-0f59017a6371"
      },
      "execution_count": null,
      "outputs": [
        {
          "output_type": "stream",
          "name": "stdout",
          "text": [
            "Confusion matrix:\n",
            " [[338  12]\n",
            " [  0 183]]\n",
            "Testing AUC: 98.9820 %\n",
            "Testing accuracy: 97.7486 %\n",
            "Recall score: 99.6198 %\n",
            "Precision score: 94.9275 %\n"
          ]
        }
      ]
    },
    {
      "cell_type": "code",
      "source": [
        "plot_roc_curve(model1, X_train, y_train) "
      ],
      "metadata": {
        "colab": {
          "base_uri": "https://localhost:8080/",
          "height": 352
        },
        "id": "HakQUKVKoqzQ",
        "outputId": "9203e295-ea0a-41ab-e9ab-a868f07749b3"
      },
      "execution_count": null,
      "outputs": [
        {
          "output_type": "stream",
          "name": "stderr",
          "text": [
            "/usr/local/lib/python3.7/dist-packages/sklearn/utils/deprecation.py:87: FutureWarning: Function plot_roc_curve is deprecated; Function :func:`plot_roc_curve` is deprecated in 1.0 and will be removed in 1.2. Use one of the class methods: :meth:`sklearn.metric.RocCurveDisplay.from_predictions` or :meth:`sklearn.metric.RocCurveDisplay.from_estimator`.\n",
            "  warnings.warn(msg, category=FutureWarning)\n"
          ]
        },
        {
          "output_type": "execute_result",
          "data": {
            "text/plain": [
              "<sklearn.metrics._plot.roc_curve.RocCurveDisplay at 0x7f28fb515090>"
            ]
          },
          "metadata": {},
          "execution_count": 17
        },
        {
          "output_type": "display_data",
          "data": {
            "text/plain": [
              "<Figure size 432x288 with 1 Axes>"
            ],
            "image/png": "[encoded data removed]"
          },
          "metadata": {
            "needs_background": "light"
          }
        }
      ]
    },
    {
      "cell_type": "markdown",
      "source": [
        "Apropo, daca te simti inspirat(a) incearca sa aplici algoritmul de KNN si sa compari acuratetea celor doua metode."
      ],
      "metadata": {
        "id": "kF52TTqHsBBJ"
      }
    },
    {
      "cell_type": "code",
      "source": [
        ""
      ],
      "metadata": {
        "id": "JMbJPytRr5DB"
      },
      "execution_count": null,
      "outputs": []
    }
  ]
}