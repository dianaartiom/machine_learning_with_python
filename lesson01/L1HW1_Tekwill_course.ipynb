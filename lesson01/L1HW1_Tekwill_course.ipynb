{
  "nbformat": 4,
  "nbformat_minor": 0,
  "metadata": {
    "colab": {
      "name": "L1HW1 - Tekwill course.ipynb",
      "provenance": [],
      "collapsed_sections": []
    },
    "kernelspec": {
      "name": "python3",
      "display_name": "Python 3"
    },
    "language_info": {
      "name": "python"
    }
  },
  "cells": [
    {
      "cell_type": "markdown",
      "source": [
        "# Funcții și metode Temă pentru acasă \n",
        "\n",
        "Implementati urmatoarele sarcini:\n",
        "____\n",
        "**Scrieți o funcție care să calculeze volumul unei sfere, dată fiind raza acesteia.**\n",
        "\n",
        "<p>Volumul unei sfere este dat de formula $$\\frac{4}{3} πr^3$$</p>"
      ],
      "metadata": {
        "id": "49oaBU1R44CZ"
      }
    },
    {
      "cell_type": "code",
      "execution_count": null,
      "metadata": {
        "id": "V8HNFL_i4mpn"
      },
      "outputs": [],
      "source": [
        "def volumul(r):\n",
        "  return"
      ]
    },
    {
      "cell_type": "markdown",
      "source": [
        "___\n",
        "**Scrieți o funcție care să verifice dacă un număr se află într-un interval dat (inclusiv valorile mare și mică)**"
      ],
      "metadata": {
        "id": "k3h0PU_y4-zT"
      }
    },
    {
      "cell_type": "code",
      "source": [
        "def este_in_interval(num,low,high):\n",
        "  return"
      ],
      "metadata": {
        "id": "iNGQDyeH5BKV"
      },
      "execution_count": null,
      "outputs": []
    },
    {
      "cell_type": "markdown",
      "source": [
        "____\n",
        "**Scrieți o funcție Python care acceptă un șir de caractere și calculează numărul de litere majuscule și minuscule.**\n",
        "\n",
        "    Exemplu de String : 'Hello Mr. Rogers, how are you this fine Tuesday?'\n",
        "    Rezulat asteptat : \n",
        "    Nr de majuscule : 4\n",
        "    Nr de minuscule : 33\n",
        "\n",
        "SUGESTIE: Două metode de string care s-ar putea dovedi utile: **.isupper()** and **.islower()**"
      ],
      "metadata": {
        "id": "d5U-LD4v5IzG"
      }
    },
    {
      "cell_type": "code",
      "source": [
        "def func3():\n",
        "  return"
      ],
      "metadata": {
        "id": "ULUv-o8v5LUv"
      },
      "execution_count": null,
      "outputs": []
    },
    {
      "cell_type": "markdown",
      "source": [
        "____\n",
        "**Scrieți o funcție Python care ia o listă și returnează o nouă listă cu elemente unice ale primei liste.**\n",
        "\n",
        "    Sample List : [1,1,1,1,2,2,3,3,3,3,4,5]\n",
        "    Unique List : [1, 2, 3, 4, 5]"
      ],
      "metadata": {
        "id": "NVn7T69o5QBR"
      }
    },
    {
      "cell_type": "code",
      "source": [
        "def func4():\n",
        "  return"
      ],
      "metadata": {
        "id": "vEACptUG5Qo5"
      },
      "execution_count": null,
      "outputs": []
    },
    {
      "cell_type": "markdown",
      "source": [
        "____\n",
        "**Scrieți o funcție Python care să înmulțească toate numerele dintr-o listă.**\n",
        "\n",
        "    Sample List : [1, 2, 3, -4]\n",
        "    Expected Output : -24"
      ],
      "metadata": {
        "id": "IIDzECAx5Us8"
      }
    },
    {
      "cell_type": "code",
      "source": [
        "def func5():\n",
        "  return"
      ],
      "metadata": {
        "id": "ohCcLa6f5VMo"
      },
      "execution_count": null,
      "outputs": []
    },
    {
      "cell_type": "markdown",
      "source": [
        "____\n",
        "**Scrieți o funcție Python care să verifice dacă un șir de caractere transmis este sau nu palindrom.**\n",
        "\n",
        "Notă: Un palindrom este un cuvânt, o frază sau o secvență care se citește la fel si în sens invers, de exemplu, madam sau ana."
      ],
      "metadata": {
        "id": "h-dRFACa5biO"
      }
    },
    {
      "cell_type": "code",
      "source": [
        "def func6():\n",
        "  return"
      ],
      "metadata": {
        "id": "a30kaEe45W0F"
      },
      "execution_count": null,
      "outputs": []
    }
  ]
}